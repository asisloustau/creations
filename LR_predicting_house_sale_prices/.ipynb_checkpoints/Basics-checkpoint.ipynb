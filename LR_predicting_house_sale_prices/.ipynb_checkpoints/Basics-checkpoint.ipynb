{
 "cells": [
  {
   "cell_type": "markdown",
   "metadata": {
    "collapsed": true
   },
   "source": [
    "# Predicting House Sale Prices - Linear Regression and Feature Selection\n",
    "In this project we will work with housing data for the city of Ames, Iowa from 2006 to 2010. Our mission is to create a linear regression model to predict house sale prices.\n",
    "To ensure maximum accuracy, we will proceed as follows:\n",
    "- **Data Exploration**: We will develop an understanding of each feature, and get an idea of their relationship with our prediction target.\n",
    "- **Data Cleaning/Feature Transformation**: Missing values will be treated. If the columns have more than a 25% missing values, the columns will be dropped. For columns with less missing values, the mode value will be imputed. Relevant categorical features will be transformed as required to be used in our model.\n",
    "- **Feature Selection**: We will study data correlation to determine the most valuable features and multicollinearity to avoid any imprecise predictions.\n",
    "- **Model Training and Testing**: We will train and test our model.\n",
    "\n",
    "In order to prove the importance of feature transformation and selection, we will show the different RMSE's obtained with a barely treated model versus a model where our features have been treated and selected following rigorous criteria."
   ]
  },
  {
   "cell_type": "markdown",
   "metadata": {
    "collapsed": true
   },
   "source": [
    "## Data Exploration"
   ]
  },
  {
   "cell_type": "code",
   "execution_count": 1,
   "metadata": {
    "collapsed": false
   },
   "outputs": [
    {
     "name": "stdout",
     "output_type": "stream",
     "text": [
      "<class 'pandas.core.frame.DataFrame'>\n",
      "RangeIndex: 2930 entries, 0 to 2929\n",
      "Data columns (total 82 columns):\n",
      "Order              2930 non-null int64\n",
      "PID                2930 non-null int64\n",
      "MS SubClass        2930 non-null int64\n",
      "MS Zoning          2930 non-null object\n",
      "Lot Frontage       2440 non-null float64\n",
      "Lot Area           2930 non-null int64\n",
      "Street             2930 non-null object\n",
      "Alley              198 non-null object\n",
      "Lot Shape          2930 non-null object\n",
      "Land Contour       2930 non-null object\n",
      "Utilities          2930 non-null object\n",
      "Lot Config         2930 non-null object\n",
      "Land Slope         2930 non-null object\n",
      "Neighborhood       2930 non-null object\n",
      "Condition 1        2930 non-null object\n",
      "Condition 2        2930 non-null object\n",
      "Bldg Type          2930 non-null object\n",
      "House Style        2930 non-null object\n",
      "Overall Qual       2930 non-null int64\n",
      "Overall Cond       2930 non-null int64\n",
      "Year Built         2930 non-null int64\n",
      "Year Remod/Add     2930 non-null int64\n",
      "Roof Style         2930 non-null object\n",
      "Roof Matl          2930 non-null object\n",
      "Exterior 1st       2930 non-null object\n",
      "Exterior 2nd       2930 non-null object\n",
      "Mas Vnr Type       2907 non-null object\n",
      "Mas Vnr Area       2907 non-null float64\n",
      "Exter Qual         2930 non-null object\n",
      "Exter Cond         2930 non-null object\n",
      "Foundation         2930 non-null object\n",
      "Bsmt Qual          2850 non-null object\n",
      "Bsmt Cond          2850 non-null object\n",
      "Bsmt Exposure      2847 non-null object\n",
      "BsmtFin Type 1     2850 non-null object\n",
      "BsmtFin SF 1       2929 non-null float64\n",
      "BsmtFin Type 2     2849 non-null object\n",
      "BsmtFin SF 2       2929 non-null float64\n",
      "Bsmt Unf SF        2929 non-null float64\n",
      "Total Bsmt SF      2929 non-null float64\n",
      "Heating            2930 non-null object\n",
      "Heating QC         2930 non-null object\n",
      "Central Air        2930 non-null object\n",
      "Electrical         2929 non-null object\n",
      "1st Flr SF         2930 non-null int64\n",
      "2nd Flr SF         2930 non-null int64\n",
      "Low Qual Fin SF    2930 non-null int64\n",
      "Gr Liv Area        2930 non-null int64\n",
      "Bsmt Full Bath     2928 non-null float64\n",
      "Bsmt Half Bath     2928 non-null float64\n",
      "Full Bath          2930 non-null int64\n",
      "Half Bath          2930 non-null int64\n",
      "Bedroom AbvGr      2930 non-null int64\n",
      "Kitchen AbvGr      2930 non-null int64\n",
      "Kitchen Qual       2930 non-null object\n",
      "TotRms AbvGrd      2930 non-null int64\n",
      "Functional         2930 non-null object\n",
      "Fireplaces         2930 non-null int64\n",
      "Fireplace Qu       1508 non-null object\n",
      "Garage Type        2773 non-null object\n",
      "Garage Yr Blt      2771 non-null float64\n",
      "Garage Finish      2771 non-null object\n",
      "Garage Cars        2929 non-null float64\n",
      "Garage Area        2929 non-null float64\n",
      "Garage Qual        2771 non-null object\n",
      "Garage Cond        2771 non-null object\n",
      "Paved Drive        2930 non-null object\n",
      "Wood Deck SF       2930 non-null int64\n",
      "Open Porch SF      2930 non-null int64\n",
      "Enclosed Porch     2930 non-null int64\n",
      "3Ssn Porch         2930 non-null int64\n",
      "Screen Porch       2930 non-null int64\n",
      "Pool Area          2930 non-null int64\n",
      "Pool QC            13 non-null object\n",
      "Fence              572 non-null object\n",
      "Misc Feature       106 non-null object\n",
      "Misc Val           2930 non-null int64\n",
      "Mo Sold            2930 non-null int64\n",
      "Yr Sold            2930 non-null int64\n",
      "Sale Type          2930 non-null object\n",
      "Sale Condition     2930 non-null object\n",
      "SalePrice          2930 non-null int64\n",
      "dtypes: float64(11), int64(28), object(43)\n",
      "memory usage: 1.8+ MB\n"
     ]
    }
   ],
   "source": [
    "import pandas as pd\n",
    "import matplotlib.pyplot as plt\n",
    "import seaborn as sns\n",
    "import numpy as np\n",
    "from sklearn.metrics import mean_squared_error\n",
    "from sklearn.linear_model import LinearRegression\n",
    "\n",
    "### import scikit-learn classes\n",
    "%matplotlib inline\n",
    "\n",
    "data = pd.read_csv('AmesHousing.tsv',delimiter='\\t')\n",
    "\n",
    "data.info()"
   ]
  },
  {
   "cell_type": "markdown",
   "metadata": {},
   "source": [
    "## First Model - Without Optimizations\n",
    "Explain function pipeline and first feature selection"
   ]
  },
  {
   "cell_type": "code",
   "execution_count": 2,
   "metadata": {
    "collapsed": true
   },
   "outputs": [],
   "source": [
    "def transform_features(df): #empty for now        \n",
    "    return df"
   ]
  },
  {
   "cell_type": "code",
   "execution_count": 3,
   "metadata": {
    "collapsed": true
   },
   "outputs": [],
   "source": [
    "def select_features(df):\n",
    "    return df[['Gr Liv Area']]"
   ]
  },
  {
   "cell_type": "code",
   "execution_count": 4,
   "metadata": {
    "collapsed": true
   },
   "outputs": [],
   "source": [
    "def train_and_test(df):\n",
    "    df_trans_features = transform_features(df)\n",
    "    train = df_trans_features[:1460]\n",
    "    test = df_trans_features[1460:]\n",
    "    train_features = select_features(train)\n",
    "    test_features = select_features(test)\n",
    "    #fit model using select_features()\n",
    "    lr = LinearRegression()\n",
    "    lr.fit(train_features,train['SalePrice'])\n",
    "    #predict\n",
    "    predictions = lr.predict(test_features)\n",
    "    #return rmse\n",
    "    rmse = mean_squared_error(predictions,test['SalePrice'])**(1/2)\n",
    "    return rmse"
   ]
  },
  {
   "cell_type": "code",
   "execution_count": 5,
   "metadata": {
    "collapsed": false
   },
   "outputs": [
    {
     "data": {
      "text/plain": [
       "57088.25161263909"
      ]
     },
     "execution_count": 5,
     "metadata": {},
     "output_type": "execute_result"
    }
   ],
   "source": [
    "train_and_test(data)"
   ]
  },
  {
   "cell_type": "markdown",
   "metadata": {
    "collapsed": false
   },
   "source": [
    "## Optimized Model\n",
    "Same pipelines\n",
    "\n",
    "To Do:\n",
    "\n",
    "- Transform Features: done\n",
    "\n",
    "- Select Features: \n"
   ]
  },
  {
   "cell_type": "markdown",
   "metadata": {},
   "source": [
    "### Feature Transformation\n",
    "\n",
    "REORGANIZE: ADD EXPLANATION FOR EACH PART CONTAINED IN THE FUNCTION - IF REQUIRED. Now it's just showing the end result and no analysis!"
   ]
  },
  {
   "cell_type": "code",
   "execution_count": 18,
   "metadata": {
    "collapsed": true
   },
   "outputs": [],
   "source": [
    "def transform_features(df):\n",
    "    #delete columns with >25% missing values\n",
    "    missing_values_pct = df.isnull().sum()*100/df.shape[0]\n",
    "    drop_cols = missing_values_pct[missing_values_pct > 25].index \n",
    "    df_transformed = df.copy()\n",
    "    for col in drop_cols:\n",
    "        del df_transformed[col]\n",
    "    #fill NA values with mode\n",
    "    for col in df_transformed.columns:\n",
    "        df_transformed[col] = df_transformed[col].fillna(df_transformed[col].mode()[0])\n",
    "    #create 2 new columns that relate timeline of construction,remod and sale\n",
    "    df_transformed['years_sold_built'] = df_transformed['Yr Sold'] - df_transformed['Year Built']\n",
    "    df_transformed['years_sold_remod'] = df_transformed['Yr Sold'] - df_transformed['Year Remod/Add']\n",
    "    #delete rows with negative values from the two columns created above\n",
    "    del_index = df_transformed[\n",
    "        (df_transformed['years_sold_built'] < 0) |\n",
    "        (df_transformed['years_sold_remod'] < 0)\n",
    "    ].index\n",
    "    df_transformed.drop(del_index,inplace=True)\n",
    "    #delete columns related to the salethey leak sale info - EXCEPT SalePrice (target column)\n",
    "    #case sensitive to not delete our new columns\n",
    "    drop_cols = df_transformed.columns[\n",
    "        (\n",
    "            df_transformed.columns.str.contains('Sale') \n",
    "            | df_transformed.columns.str.contains('Sold')\n",
    "        ) & ~ df_transformed.columns.str.contains('SalePrice')\n",
    "\n",
    "    ].tolist() + ['Year Built','Year Remod/Add']\n",
    "    \n",
    "    for col in drop_cols:\n",
    "        del df_transformed[col]\n",
    "    #delete columns not useful for our model\n",
    "    df_transformed = df_transformed.drop([\"PID\", \"Order\"], axis=1)\n",
    "    \n",
    "    return df_transformed"
   ]
  },
  {
   "cell_type": "code",
   "execution_count": 19,
   "metadata": {
    "collapsed": false,
    "scrolled": false
   },
   "outputs": [
    {
     "data": {
      "text/plain": [
       "years_sold_remod    0.0\n",
       "Foundation          0.0\n",
       "Exterior 1st        0.0\n",
       "Exterior 2nd        0.0\n",
       "Mas Vnr Type        0.0\n",
       "Mas Vnr Area        0.0\n",
       "Exter Qual          0.0\n",
       "Exter Cond          0.0\n",
       "Bsmt Qual           0.0\n",
       "Roof Style          0.0\n",
       "dtype: float64"
      ]
     },
     "execution_count": 19,
     "metadata": {},
     "output_type": "execute_result"
    }
   ],
   "source": [
    "###double check: Missing values are treated\n",
    "transformed_data = transform_features(data)\n",
    "missing_vals_pct = transformed_data.isnull().sum()*100/transformed_data.shape[0]\n",
    "missing_vals_pct.sort_values(ascending=False).head(10)"
   ]
  },
  {
   "cell_type": "code",
   "execution_count": 16,
   "metadata": {
    "collapsed": false
   },
   "outputs": [
    {
     "data": {
      "text/plain": [
       "years_sold_built    0\n",
       "years_sold_remod    0\n",
       "dtype: int64"
      ]
     },
     "execution_count": 16,
     "metadata": {},
     "output_type": "execute_result"
    }
   ],
   "source": [
    "###double_check: years_sold_built and years_sold_remod have no negative values\n",
    "transformed_data[['years_sold_built','years_sold_remod']].min()"
   ]
  },
  {
   "cell_type": "markdown",
   "metadata": {},
   "source": [
    "### Feature Selection - TODO - ADD ANALYSIS TO CHOOSE FEATURES AND TRANSFORM TO DUMMY VARIABLES\n",
    "CONTINUE HERE!\n",
    "\n",
    "- Establish criteria for correlation -higher than...lower than... (arbitrary parameter)\n",
    "- Select categorical variables based on number of unique values (arbitrary parameter)"
   ]
  },
  {
   "cell_type": "code",
   "execution_count": 21,
   "metadata": {
    "collapsed": false
   },
   "outputs": [
    {
     "data": {
      "text/plain": [
       "Neighborhood      28\n",
       "Exterior 2nd      17\n",
       "Exterior 1st      16\n",
       "Condition 1        9\n",
       "Condition 2        8\n",
       "House Style        8\n",
       "Functional         8\n",
       "Roof Matl          8\n",
       "MS Zoning          7\n",
       "Foundation         6\n",
       "BsmtFin Type 2     6\n",
       "Roof Style         6\n",
       "BsmtFin Type 1     6\n",
       "Heating            6\n",
       "Garage Type        6\n",
       "Bsmt Cond          5\n",
       "Garage Qual        5\n",
       "Exter Cond         5\n",
       "Mas Vnr Type       5\n",
       "Heating QC         5\n",
       "Kitchen Qual       5\n",
       "Bsmt Qual          5\n",
       "Bldg Type          5\n",
       "Electrical         5\n",
       "Lot Config         5\n",
       "Garage Cond        5\n",
       "Land Contour       4\n",
       "Bsmt Exposure      4\n",
       "Lot Shape          4\n",
       "Exter Qual         4\n",
       "Paved Drive        3\n",
       "Utilities          3\n",
       "Land Slope         3\n",
       "Garage Finish      3\n",
       "Central Air        2\n",
       "Street             2\n",
       "dtype: int64"
      ]
     },
     "execution_count": 21,
     "metadata": {},
     "output_type": "execute_result"
    }
   ],
   "source": [
    "#Determine the number of unique values to see which columns are too complicated for\n",
    "#categories -dummy variables\n",
    "transformed_data_object = transformed_data.select_dtypes(include='object')\n",
    "unique_counts_dict = dict()\n",
    "for col in transformed_data_object.columns:\n",
    "    unique_counts_dict[col] = len(transformed_data_object[col].unique())\n",
    "\n",
    "unique_counts = pd.Series(unique_counts_dict,index=unique_counts_dict.keys())\n",
    "unique_counts.sort_values(ascending=False)"
   ]
  },
  {
   "cell_type": "code",
   "execution_count": null,
   "metadata": {
    "collapsed": false
   },
   "outputs": [],
   "source": [
    "correlations = abs(transform_features(data).corr())\n",
    "top_15_corr = correlations['SalePrice'].sort_values(ascending=False)[0:15]\n",
    "top_15_corr"
   ]
  },
  {
   "cell_type": "code",
   "execution_count": null,
   "metadata": {
    "collapsed": false,
    "scrolled": true
   },
   "outputs": [],
   "source": [
    "top_15_corr_df = abs(transform_features(data[top_15_corr.index]).corr())\n",
    "sns.heatmap(top_15_corr_df)"
   ]
  },
  {
   "cell_type": "code",
   "execution_count": null,
   "metadata": {
    "collapsed": false
   },
   "outputs": [],
   "source": [
    "top_15_corr.index.isnull().sum()"
   ]
  },
  {
   "cell_type": "markdown",
   "metadata": {},
   "source": [
    "These are the 14 features that are most correlated with SalePrice. \n",
    "\n",
    "Risk of multicollinearity -see heatmap, high correlations between features:\n",
    "- Garage Cars and Garage Area: Garage Cars will not be used, since Garage Area gives us more detail -continuous feature vs discrete feature.\n",
    "- Total Bsmt SF and 1st Flr SF:"
   ]
  },
  {
   "cell_type": "code",
   "execution_count": null,
   "metadata": {
    "collapsed": true
   },
   "outputs": [],
   "source": [
    "def select_features(df):\n",
    "    return df[['Gr Liv Area']]"
   ]
  },
  {
   "cell_type": "markdown",
   "metadata": {
    "collapsed": true
   },
   "source": [
    "### Training and Testing - TODO\n",
    "- Kfold if k greater than 2! check"
   ]
  },
  {
   "cell_type": "code",
   "execution_count": null,
   "metadata": {
    "collapsed": true
   },
   "outputs": [],
   "source": [
    "def train_and_test(df):\n",
    "    df_trans_features = transform_features(df)\n",
    "    train = df_trans_features[:1460]\n",
    "    test = df_trans_features[1460:]\n",
    "    train_features = select_features(train)\n",
    "    test_features = select_features(test)\n",
    "    #fit model using select_features()\n",
    "    lr = LinearRegression()\n",
    "    lr.fit(train_features,train['SalePrice'])\n",
    "    #predict\n",
    "    predictions = lr.predict(test_features)\n",
    "    #return rmse\n",
    "    rmse = mean_squared_error(predictions,test['SalePrice'])**(1/2)\n",
    "    return rmse"
   ]
  },
  {
   "cell_type": "code",
   "execution_count": null,
   "metadata": {
    "collapsed": false
   },
   "outputs": [],
   "source": [
    "train_and_test(data)"
   ]
  }
 ],
 "metadata": {
  "anaconda-cloud": {},
  "kernelspec": {
   "display_name": "Python 3",
   "language": "python",
   "name": "python3"
  },
  "language_info": {
   "codemirror_mode": {
    "name": "ipython",
    "version": 3
   },
   "file_extension": ".py",
   "mimetype": "text/x-python",
   "name": "python",
   "nbconvert_exporter": "python",
   "pygments_lexer": "ipython3",
   "version": "3.4.3"
  }
 },
 "nbformat": 4,
 "nbformat_minor": 2
}
