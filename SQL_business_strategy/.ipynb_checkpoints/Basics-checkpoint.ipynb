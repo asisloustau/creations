{
 "cells": [
  {
   "cell_type": "markdown",
   "metadata": {
    "collapsed": true
   },
   "source": [
    "# Data Analysis using SQL - Chinook Database\n",
    "In this project we will be working with the Chinook Database, a fictional digital music store that contains information about songs, albums, artists, invoices, and employees. You can find the original GitHub repository [here](https://github.com/lerocha/chinook-database). We will use come up with business strategies by using SQL queries to pull frequency tables and interpreting the data.\n",
    "\n",
    "The information of the Chinook Database is contained in several tables, and these tables have primary and foreign keys that create relationships between them:\n",
    "<figure>\n",
    "<img src=\"https://s3.amazonaws.com/dq-content/189/chinook-schema.svg\" alt=\"Chinook Schema\" style=\"max-width: 700px; float: None;\"/>\n",
    "    <figcaption>Source: <a href =\"https://www.dataquest.io\">Dataquest.io</a></figcaption>\n",
    "</figure>"
   ]
  },
  {
   "cell_type": "markdown",
   "metadata": {},
   "source": [
    "## Running SQL Queries in Python\n",
    "To pull the data from the Chinook database, we will be using the [SQLite3 library](https://www.sqlite.org/index.html). Below we will create helper functions to input queries and return tables in DataFrame format and run commands to make any modifications that do not require any table to be returned. In order to avoid any unwanted changes in our database, we will use a [context manager](https://docs.python.org/3/library/sqlite3.html#using-the-connection-as-a-context-manager) that opens and closes any connections any time we run a query."
   ]
  },
  {
   "cell_type": "code",
   "execution_count": 1,
   "metadata": {},
   "outputs": [],
   "source": [
    "import sqlite3\n",
    "import pandas as pd, matplotlib.pyplot as plt\n",
    "%matplotlib inline"
   ]
  },
  {
   "cell_type": "code",
   "execution_count": 6,
   "metadata": {},
   "outputs": [],
   "source": [
    "db = 'chinook.db'\n",
    "\n",
    "def run_query(q): ###returns df table from query\n",
    "    with sqlite3.connect(db) as conn:\n",
    "        return pd.read_sql(q,conn)\n",
    "    \n",
    "def run_command(c): ###sql query where we do not need to return table\n",
    "    with sqlite3.connect(db) as conn:\n",
    "        conn.isolation_level = None\n",
    "        return conn.execute(c)\n",
    "\n",
    "def show_tables(): ###query to show all the tables in the database, uses run_query function defined before\n",
    "    q = '''SELECT\n",
    "                name,\n",
    "                type\n",
    "            FROM sqlite_master\n",
    "            WHERE type IN (\"table\",\"view\");'''\n",
    "    return run_query(q)"
   ]
  },
  {
   "cell_type": "code",
   "execution_count": 3,
   "metadata": {},
   "outputs": [
    {
     "data": {
      "text/html": [
       "<div>\n",
       "<style scoped>\n",
       "    .dataframe tbody tr th:only-of-type {\n",
       "        vertical-align: middle;\n",
       "    }\n",
       "\n",
       "    .dataframe tbody tr th {\n",
       "        vertical-align: top;\n",
       "    }\n",
       "\n",
       "    .dataframe thead th {\n",
       "        text-align: right;\n",
       "    }\n",
       "</style>\n",
       "<table border=\"1\" class=\"dataframe\">\n",
       "  <thead>\n",
       "    <tr style=\"text-align: right;\">\n",
       "      <th></th>\n",
       "      <th>name</th>\n",
       "      <th>type</th>\n",
       "    </tr>\n",
       "  </thead>\n",
       "  <tbody>\n",
       "    <tr>\n",
       "      <th>0</th>\n",
       "      <td>album</td>\n",
       "      <td>table</td>\n",
       "    </tr>\n",
       "    <tr>\n",
       "      <th>1</th>\n",
       "      <td>artist</td>\n",
       "      <td>table</td>\n",
       "    </tr>\n",
       "    <tr>\n",
       "      <th>2</th>\n",
       "      <td>customer</td>\n",
       "      <td>table</td>\n",
       "    </tr>\n",
       "    <tr>\n",
       "      <th>3</th>\n",
       "      <td>employee</td>\n",
       "      <td>table</td>\n",
       "    </tr>\n",
       "    <tr>\n",
       "      <th>4</th>\n",
       "      <td>genre</td>\n",
       "      <td>table</td>\n",
       "    </tr>\n",
       "    <tr>\n",
       "      <th>5</th>\n",
       "      <td>invoice</td>\n",
       "      <td>table</td>\n",
       "    </tr>\n",
       "    <tr>\n",
       "      <th>6</th>\n",
       "      <td>invoice_line</td>\n",
       "      <td>table</td>\n",
       "    </tr>\n",
       "    <tr>\n",
       "      <th>7</th>\n",
       "      <td>media_type</td>\n",
       "      <td>table</td>\n",
       "    </tr>\n",
       "    <tr>\n",
       "      <th>8</th>\n",
       "      <td>playlist</td>\n",
       "      <td>table</td>\n",
       "    </tr>\n",
       "    <tr>\n",
       "      <th>9</th>\n",
       "      <td>playlist_track</td>\n",
       "      <td>table</td>\n",
       "    </tr>\n",
       "    <tr>\n",
       "      <th>10</th>\n",
       "      <td>track</td>\n",
       "      <td>table</td>\n",
       "    </tr>\n",
       "  </tbody>\n",
       "</table>\n",
       "</div>"
      ],
      "text/plain": [
       "              name   type\n",
       "0            album  table\n",
       "1           artist  table\n",
       "2         customer  table\n",
       "3         employee  table\n",
       "4            genre  table\n",
       "5          invoice  table\n",
       "6     invoice_line  table\n",
       "7       media_type  table\n",
       "8         playlist  table\n",
       "9   playlist_track  table\n",
       "10           track  table"
      ]
     },
     "execution_count": 3,
     "metadata": {},
     "output_type": "execute_result"
    }
   ],
   "source": [
    "show_tables() #shows tables"
   ]
  },
  {
   "cell_type": "markdown",
   "metadata": {},
   "source": [
    "## Sales Analysis\n",
    "Our fictious company sells its product in various countries. If we wanted to invest in a marketing campaign and acquire new songs to expand our repertoire, we would need to create an effective business strategy in the first place. Our dataset contains very useful information about the customers and invoices, including country of residence/billing country.\n",
    "\n",
    "\n",
    "To decide which countries will be the marketing target and which songs we should add to our stock, we will answer following questions:\n",
    "\n",
    "1. Which countries have the greatest sales value? The countries with the greatest sales value will provide the highest sales potential.\n",
    "2. What are the most popular genres? If we add new songs to our stock, we will want them to belong to the top purchased genres."
   ]
  },
  {
   "cell_type": "markdown",
   "metadata": {},
   "source": [
    "### Countries with Greatest Sale Value"
   ]
  },
  {
   "cell_type": "code",
   "execution_count": 160,
   "metadata": {},
   "outputs": [
    {
     "data": {
      "text/html": [
       "<div>\n",
       "<style scoped>\n",
       "    .dataframe tbody tr th:only-of-type {\n",
       "        vertical-align: middle;\n",
       "    }\n",
       "\n",
       "    .dataframe tbody tr th {\n",
       "        vertical-align: top;\n",
       "    }\n",
       "\n",
       "    .dataframe thead th {\n",
       "        text-align: right;\n",
       "    }\n",
       "</style>\n",
       "<table border=\"1\" class=\"dataframe\">\n",
       "  <thead>\n",
       "    <tr style=\"text-align: right;\">\n",
       "      <th></th>\n",
       "      <th>country</th>\n",
       "      <th>total_customers</th>\n",
       "      <th>total_sales</th>\n",
       "      <th>avg_sales_customer</th>\n",
       "      <th>avg_order_value</th>\n",
       "    </tr>\n",
       "  </thead>\n",
       "  <tbody>\n",
       "    <tr>\n",
       "      <th>0</th>\n",
       "      <td>USA</td>\n",
       "      <td>13</td>\n",
       "      <td>1040.49</td>\n",
       "      <td>80.04</td>\n",
       "      <td>7.94</td>\n",
       "    </tr>\n",
       "    <tr>\n",
       "      <th>1</th>\n",
       "      <td>Canada</td>\n",
       "      <td>8</td>\n",
       "      <td>535.59</td>\n",
       "      <td>66.95</td>\n",
       "      <td>7.05</td>\n",
       "    </tr>\n",
       "    <tr>\n",
       "      <th>2</th>\n",
       "      <td>Brazil</td>\n",
       "      <td>5</td>\n",
       "      <td>427.68</td>\n",
       "      <td>85.54</td>\n",
       "      <td>7.01</td>\n",
       "    </tr>\n",
       "    <tr>\n",
       "      <th>3</th>\n",
       "      <td>France</td>\n",
       "      <td>5</td>\n",
       "      <td>389.07</td>\n",
       "      <td>77.81</td>\n",
       "      <td>7.78</td>\n",
       "    </tr>\n",
       "    <tr>\n",
       "      <th>4</th>\n",
       "      <td>Germany</td>\n",
       "      <td>4</td>\n",
       "      <td>334.62</td>\n",
       "      <td>83.65</td>\n",
       "      <td>8.16</td>\n",
       "    </tr>\n",
       "    <tr>\n",
       "      <th>5</th>\n",
       "      <td>Czech Republic</td>\n",
       "      <td>2</td>\n",
       "      <td>273.24</td>\n",
       "      <td>136.62</td>\n",
       "      <td>9.11</td>\n",
       "    </tr>\n",
       "    <tr>\n",
       "      <th>6</th>\n",
       "      <td>United Kingdom</td>\n",
       "      <td>3</td>\n",
       "      <td>245.52</td>\n",
       "      <td>81.84</td>\n",
       "      <td>8.77</td>\n",
       "    </tr>\n",
       "    <tr>\n",
       "      <th>7</th>\n",
       "      <td>Portugal</td>\n",
       "      <td>2</td>\n",
       "      <td>185.13</td>\n",
       "      <td>92.56</td>\n",
       "      <td>6.38</td>\n",
       "    </tr>\n",
       "    <tr>\n",
       "      <th>8</th>\n",
       "      <td>India</td>\n",
       "      <td>2</td>\n",
       "      <td>183.15</td>\n",
       "      <td>91.57</td>\n",
       "      <td>8.72</td>\n",
       "    </tr>\n",
       "    <tr>\n",
       "      <th>9</th>\n",
       "      <td>Others</td>\n",
       "      <td>15</td>\n",
       "      <td>1094.94</td>\n",
       "      <td>73.00</td>\n",
       "      <td>7.45</td>\n",
       "    </tr>\n",
       "  </tbody>\n",
       "</table>\n",
       "</div>"
      ],
      "text/plain": [
       "          country  total_customers  total_sales  avg_sales_customer  \\\n",
       "0             USA               13      1040.49               80.04   \n",
       "1          Canada                8       535.59               66.95   \n",
       "2          Brazil                5       427.68               85.54   \n",
       "3          France                5       389.07               77.81   \n",
       "4         Germany                4       334.62               83.65   \n",
       "5  Czech Republic                2       273.24              136.62   \n",
       "6  United Kingdom                3       245.52               81.84   \n",
       "7        Portugal                2       185.13               92.56   \n",
       "8           India                2       183.15               91.57   \n",
       "9          Others               15      1094.94               73.00   \n",
       "\n",
       "   avg_order_value  \n",
       "0             7.94  \n",
       "1             7.05  \n",
       "2             7.01  \n",
       "3             7.78  \n",
       "4             8.16  \n",
       "5             9.11  \n",
       "6             8.77  \n",
       "7             6.38  \n",
       "8             8.72  \n",
       "9             7.45  "
      ]
     },
     "execution_count": 160,
     "metadata": {},
     "output_type": "execute_result"
    }
   ],
   "source": [
    "sales_by_country='''\n",
    "    WITH all_countries AS\n",
    "    (\n",
    "    SELECT \n",
    "        CASE \n",
    "            WHEN COUNT(DISTINCT i.customer_id) = 1 THEN 'Others'\n",
    "            ELSE c.country\n",
    "        END AS country,\n",
    "        COUNT(DISTINCT i.customer_id) total_customers,\n",
    "        SUM(i.total) total_sales,\n",
    "        SUM(i.total) / COUNT(DISTINCT c.customer_id) avg_sales_customer,\n",
    "        AVG(i.total) avg_order_value\n",
    "    FROM customer c\n",
    "    LEFT JOIN invoice i ON i.customer_id = c.customer_id\n",
    "    GROUP BY c.country\n",
    "    )\n",
    "    \n",
    "    SELECT\n",
    "        country,\n",
    "        SUM(total_customers) total_customers,\n",
    "        SUM(total_sales) total_sales,\n",
    "        ROUND(AVG(avg_sales_customer),2) avg_sales_customer,\n",
    "        ROUND(AVG(avg_order_value),2) avg_order_value\n",
    "    FROM \n",
    "        (\n",
    "        SELECT\n",
    "            *,\n",
    "            CASE\n",
    "                WHEN country = 'Others' THEN 1\n",
    "                ELSE 0\n",
    "            END AS sort\n",
    "            FROM all_countries\n",
    "        )\n",
    "    GROUP BY country\n",
    "    ORDER BY sort, total_sales DESC\n",
    "'''\n",
    "\n",
    "run_query(sales_by_country)"
   ]
  },
  {
   "cell_type": "code",
   "execution_count": 161,
   "metadata": {},
   "outputs": [
    {
     "data": {
      "image/png": "[encoded data removed]",
      "text/plain": [
       "<Figure size 432x288 with 1 Axes>"
      ]
     },
     "metadata": {
      "needs_background": "light"
     },
     "output_type": "display_data"
    },
    {
     "data": {
      "image/png": "[encoded data removed]",
      "text/plain": [
       "<Figure size 432x288 with 1 Axes>"
      ]
     },
     "metadata": {
      "needs_background": "light"
     },
     "output_type": "display_data"
    }
   ],
   "source": [
    "sales_by_country = run_query(sales_by_country).sort_values(by='total_sales')\n",
    "sales_by_country.set_index('country',inplace=True,drop=True)\n",
    "for i in range(0,2):\n",
    "    sales_by_country[:-1].plot.barh( ### not showing 'Others'\n",
    "    y=sales_by_country.columns[i],\n",
    "    colormap=plt.cm.Accent,\n",
    "    title=sales_by_country.columns[i],\n",
    "    legend=False\n",
    "    )\n",
    "    plt.ylabel(' ')\n",
    "    plt.xlabel(' ')\n",
    "plt.show()"
   ]
  },
  {
   "cell_type": "code",
   "execution_count": 120,
   "metadata": {},
   "outputs": [
    {
     "data": {
      "text/plain": [
       "Int64Index([8, 7, 6, 5, 4, 3, 2, 1, 0, 9], dtype='int64')"
      ]
     },
     "execution_count": 120,
     "metadata": {},
     "output_type": "execute_result"
    }
   ],
   "source": [
    "run_query(sales_by_country).sort_values(by='total_sales',ascending=True).index"
   ]
  },
  {
   "cell_type": "markdown",
   "metadata": {},
   "source": [
    "### Top Genres in the USA\n",
    "As we can see in our previous analysis, the USA have the greatest sales volume and number of customers, whose value doubles the amount generated by selling our product to Canadian customers. This answers our first question. Now we know that our business strategy should be directed to the American market, since we can predict a geater potential for a higher sales volume and capturing new customers.\n",
    "\n",
    "In order to determine what songs to invest in, we will answer our second question: What are the most popular genres in the USA? This will help us narrow down what type of songs we should add to our stock."
   ]
  },
  {
   "cell_type": "code",
   "execution_count": 58,
   "metadata": {},
   "outputs": [
    {
     "data": {
      "text/html": [
       "<div>\n",
       "<style scoped>\n",
       "    .dataframe tbody tr th:only-of-type {\n",
       "        vertical-align: middle;\n",
       "    }\n",
       "\n",
       "    .dataframe tbody tr th {\n",
       "        vertical-align: top;\n",
       "    }\n",
       "\n",
       "    .dataframe thead th {\n",
       "        text-align: right;\n",
       "    }\n",
       "</style>\n",
       "<table border=\"1\" class=\"dataframe\">\n",
       "  <thead>\n",
       "    <tr style=\"text-align: right;\">\n",
       "      <th></th>\n",
       "      <th>genre</th>\n",
       "      <th>genre_sales</th>\n",
       "      <th>genre_sales_pct</th>\n",
       "    </tr>\n",
       "  </thead>\n",
       "  <tbody>\n",
       "    <tr>\n",
       "      <th>0</th>\n",
       "      <td>Rock</td>\n",
       "      <td>561</td>\n",
       "      <td>53.38</td>\n",
       "    </tr>\n",
       "    <tr>\n",
       "      <th>1</th>\n",
       "      <td>Alternative &amp; Punk</td>\n",
       "      <td>130</td>\n",
       "      <td>12.37</td>\n",
       "    </tr>\n",
       "    <tr>\n",
       "      <th>2</th>\n",
       "      <td>Metal</td>\n",
       "      <td>124</td>\n",
       "      <td>11.80</td>\n",
       "    </tr>\n",
       "    <tr>\n",
       "      <th>3</th>\n",
       "      <td>R&amp;B/Soul</td>\n",
       "      <td>53</td>\n",
       "      <td>5.04</td>\n",
       "    </tr>\n",
       "    <tr>\n",
       "      <th>4</th>\n",
       "      <td>Blues</td>\n",
       "      <td>36</td>\n",
       "      <td>3.43</td>\n",
       "    </tr>\n",
       "    <tr>\n",
       "      <th>5</th>\n",
       "      <td>Alternative</td>\n",
       "      <td>35</td>\n",
       "      <td>3.33</td>\n",
       "    </tr>\n",
       "    <tr>\n",
       "      <th>6</th>\n",
       "      <td>Latin</td>\n",
       "      <td>22</td>\n",
       "      <td>2.09</td>\n",
       "    </tr>\n",
       "    <tr>\n",
       "      <th>7</th>\n",
       "      <td>Pop</td>\n",
       "      <td>22</td>\n",
       "      <td>2.09</td>\n",
       "    </tr>\n",
       "    <tr>\n",
       "      <th>8</th>\n",
       "      <td>Hip Hop/Rap</td>\n",
       "      <td>20</td>\n",
       "      <td>1.90</td>\n",
       "    </tr>\n",
       "    <tr>\n",
       "      <th>9</th>\n",
       "      <td>Jazz</td>\n",
       "      <td>14</td>\n",
       "      <td>1.33</td>\n",
       "    </tr>\n",
       "  </tbody>\n",
       "</table>\n",
       "</div>"
      ],
      "text/plain": [
       "                genre  genre_sales  genre_sales_pct\n",
       "0                Rock          561            53.38\n",
       "1  Alternative & Punk          130            12.37\n",
       "2               Metal          124            11.80\n",
       "3            R&B/Soul           53             5.04\n",
       "4               Blues           36             3.43\n",
       "5         Alternative           35             3.33\n",
       "6               Latin           22             2.09\n",
       "7                 Pop           22             2.09\n",
       "8         Hip Hop/Rap           20             1.90\n",
       "9                Jazz           14             1.33"
      ]
     },
     "execution_count": 58,
     "metadata": {},
     "output_type": "execute_result"
    }
   ],
   "source": [
    "sold_tracks_USA = \"\"\"\n",
    "    WITH tracks_usa AS\n",
    "        (\n",
    "        SELECT \n",
    "            il.invoice_id,\n",
    "            i.billing_country country,\n",
    "            g.name genre\n",
    "        FROM invoice_line il\n",
    "        LEFT JOIN invoice i ON il.invoice_id = i.invoice_id\n",
    "        LEFT JOIN track t ON il.track_id = t.track_id\n",
    "        LEFT JOIN genre g ON t.genre_id = g.genre_id\n",
    "        WHERE COUNTRY = 'USA'\n",
    "        )\n",
    "\n",
    "    SELECT\n",
    "        tu.genre,\n",
    "        COUNT(*) genre_sales,\n",
    "        ROUND(100 * CAST(COUNT(*) AS FLOAT)/(SELECT CAST(COUNT(*) AS FLOAT) FROM tracks_usa),2) genre_sales_pct\n",
    "\n",
    "    FROM tracks_usa tu\n",
    "\n",
    "    GROUP BY tu.genre\n",
    "    ORDER BY genre_sales DESC\n",
    "    LIMIT 10\n",
    "\"\"\"\n",
    "\n",
    "run_query(sold_tracks_USA)"
   ]
  },
  {
   "cell_type": "code",
   "execution_count": 54,
   "metadata": {},
   "outputs": [
    {
     "data": {
      "image/png": "[encoded data removed]",
      "text/plain": [
       "<Figure size 432x288 with 1 Axes>"
      ]
     },
     "metadata": {
      "needs_background": "light"
     },
     "output_type": "display_data"
    }
   ],
   "source": [
    "sales_usa_genre = run_query(sold_tracks_USA).sort_values(by='genre_sales')\n",
    "sales_usa_genre.set_index('genre',inplace=True,drop=True)\n",
    "sales_usa_genre.plot.barh(\n",
    "    y='genre_sales_pct',\n",
    "    colormap=plt.cm.Accent,\n",
    "    title='Top Sales per Genre in the USA',\n",
    "    legend=False\n",
    "    )\n",
    "plt.ylabel(' ')\n",
    "plt.xlabel('Percent')\n",
    "plt.show()"
   ]
  },
  {
   "cell_type": "markdown",
   "metadata": {},
   "source": [
    "Our previous bar plot shows how Rock is by far the most popular genre in our target market. If we decide to invest in new albums, Rock would be the genre with more potential, considering that we are adding popular songs."
   ]
  },
  {
   "cell_type": "markdown",
   "metadata": {},
   "source": [
    "## Employee Performance\n",
    "Each customer is assigned to a sales representative. If we want to evaluate the performance of our sales representatives, we can determine the total sales volume generated by their assigned customers."
   ]
  },
  {
   "cell_type": "code",
   "execution_count": 55,
   "metadata": {},
   "outputs": [
    {
     "data": {
      "text/html": [
       "<div>\n",
       "<style scoped>\n",
       "    .dataframe tbody tr th:only-of-type {\n",
       "        vertical-align: middle;\n",
       "    }\n",
       "\n",
       "    .dataframe tbody tr th {\n",
       "        vertical-align: top;\n",
       "    }\n",
       "\n",
       "    .dataframe thead th {\n",
       "        text-align: right;\n",
       "    }\n",
       "</style>\n",
       "<table border=\"1\" class=\"dataframe\">\n",
       "  <thead>\n",
       "    <tr style=\"text-align: right;\">\n",
       "      <th></th>\n",
       "      <th>employee_name</th>\n",
       "      <th>title</th>\n",
       "      <th>hire_date</th>\n",
       "      <th>total_sales</th>\n",
       "    </tr>\n",
       "  </thead>\n",
       "  <tbody>\n",
       "    <tr>\n",
       "      <th>0</th>\n",
       "      <td>Jane Peacock</td>\n",
       "      <td>Sales Support Agent</td>\n",
       "      <td>2017-04-01 00:00:00</td>\n",
       "      <td>1731.51</td>\n",
       "    </tr>\n",
       "    <tr>\n",
       "      <th>1</th>\n",
       "      <td>Margaret Park</td>\n",
       "      <td>Sales Support Agent</td>\n",
       "      <td>2017-05-03 00:00:00</td>\n",
       "      <td>1584.00</td>\n",
       "    </tr>\n",
       "    <tr>\n",
       "      <th>2</th>\n",
       "      <td>Steve Johnson</td>\n",
       "      <td>Sales Support Agent</td>\n",
       "      <td>2017-10-17 00:00:00</td>\n",
       "      <td>1393.92</td>\n",
       "    </tr>\n",
       "  </tbody>\n",
       "</table>\n",
       "</div>"
      ],
      "text/plain": [
       "   employee_name                title            hire_date  total_sales\n",
       "0   Jane Peacock  Sales Support Agent  2017-04-01 00:00:00      1731.51\n",
       "1  Margaret Park  Sales Support Agent  2017-05-03 00:00:00      1584.00\n",
       "2  Steve Johnson  Sales Support Agent  2017-10-17 00:00:00      1393.92"
      ]
     },
     "execution_count": 55,
     "metadata": {},
     "output_type": "execute_result"
    }
   ],
   "source": [
    "sales_employee = '''\n",
    "    SELECT\n",
    "        e.first_name || ' ' || e.last_name employee_name,\n",
    "        e.title,\n",
    "        e.hire_date,\n",
    "        SUM(i.total) total_sales\n",
    "    FROM employee e\n",
    "    \n",
    "    LEFT JOIN customer c ON e.employee_id = c.support_rep_id\n",
    "    LEFT JOIN invoice i ON c.customer_id = i.customer_id\n",
    "    \n",
    "    WHERE title = 'Sales Support Agent'\n",
    "    GROUP BY 1\n",
    "    ORDER BY total_sales DESC\n",
    "\n",
    "'''\n",
    "\n",
    "run_query(sales_employee)"
   ]
  },
  {
   "cell_type": "code",
   "execution_count": 57,
   "metadata": {},
   "outputs": [
    {
     "data": {
      "image/png": "[encoded data removed]",
      "text/plain": [
       "<Figure size 432x288 with 1 Axes>"
      ]
     },
     "metadata": {
      "needs_background": "light"
     },
     "output_type": "display_data"
    }
   ],
   "source": [
    "sales_employee_total=run_query(sales_employee).sort_values(by='total_sales')\n",
    "\n",
    "sales_employee_total.set_index('employee_name',inplace=True,drop=True)\n",
    "sales_employee_total.plot.barh(\n",
    "    y='total_sales',\n",
    "    colormap=plt.cm.Accent,\n",
    "    title='Total Sales per Employee',\n",
    "    legend=False\n",
    "    )\n",
    "plt.ylabel(' ')\n",
    "plt.show()"
   ]
  },
  {
   "cell_type": "markdown",
   "metadata": {
    "collapsed": true
   },
   "source": [
    "In the bar plot shown above, we can see how all three sales support agents have generated a fairly similar volume of sales. Even though Steve Johnson has the lowest total sales amount, he was hired 5-6 months after M. Park and J. Peacock. \n",
    "Considering that no employee has left the company and that they have had a similar schedule/time off, Steve Johnson seems to be performing higher than the two older sales support agents.\n",
    "\n",
    "In order to establish a valid employee performance analysis, we would need to estimate the amount of time that the employees have been working for the company to determine a value/time ratio -i.e. USD/hr invested in sales."
   ]
  }
 ],
 "metadata": {
  "kernelspec": {
   "display_name": "Python 3",
   "language": "python",
   "name": "python3"
  },
  "language_info": {
   "codemirror_mode": {
    "name": "ipython",
    "version": 3
   },
   "file_extension": ".py",
   "mimetype": "text/x-python",
   "name": "python",
   "nbconvert_exporter": "python",
   "pygments_lexer": "ipython3",
   "version": "3.7.3"
  }
 },
 "nbformat": 4,
 "nbformat_minor": 2
}
