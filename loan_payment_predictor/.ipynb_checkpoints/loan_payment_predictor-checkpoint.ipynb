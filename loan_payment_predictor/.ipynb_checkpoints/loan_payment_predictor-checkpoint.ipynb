{
 "cells": [
  {
   "cell_type": "markdown",
   "metadata": {},
   "source": [
    "# Loan repayment predictor\n",
    "\n",
    "Data set description\n",
    "\n",
    "## Project goal\n",
    "Using the dataset described above, we will make predictions on the data to answer following question: __Will the borrower pay the loan?__\n",
    "\n",
    "In order to achieve our goal, we will follow following workflow:\n",
    "- Data exploration and understanding of each column\n",
    "- Data cleaning\n",
    "- Feature processing and selection\n",
    "- Development of prediction models\n",
    "- Error comparison and model selection"
   ]
  },
  {
   "cell_type": "code",
   "execution_count": 1,
   "metadata": {
    "tags": [
     "hide_input"
    ]
   },
   "outputs": [],
   "source": [
    "# Disable warnings in Anaconda\n",
    "import warnings\n",
    "warnings.filterwarnings('ignore')\n",
    "\n",
    "import pandas as pd # Data processing\n",
    "pd.options.display.max_columns = 52\n",
    "\n",
    "import numpy as np # Linear algebra\n",
    "\n",
    "import matplotlib.pyplot as plt\n",
    "%matplotlib inline\n",
    "import seaborn as sns\n",
    "sns.set_palette(\"colorblind\")\n",
    "\n",
    "# Helper functions\n",
    "def print_list(_list,title):\n",
    "    print(title,'\\n')\n",
    "    for item in _list:\n",
    "        print('  - ', item)\n",
    "        \n",
    "def print_series(_series,title):\n",
    "    print(title,'\\n')\n",
    "    print(_series.to_string())"
   ]
  },
  {
   "cell_type": "code",
   "execution_count": 2,
   "metadata": {
    "tags": [
     "hide_input"
    ]
   },
   "outputs": [],
   "source": [
    "loans_2007 = pd.read_csv('loans_2007.csv')"
   ]
  },
  {
   "cell_type": "markdown",
   "metadata": {},
   "source": [
    "## Data exploration\n",
    "\n",
    "Before starting with the data cleaning process, we will identify columns with the following attributes:\n",
    "\n",
    "- Columns that leak information from the future -to be avoided in our model\n",
    "- Columns that don't impact the borrower's ability to pay off the loan\n",
    "- Columns that need data cleaning\n",
    "- Missing data\n",
    "- Columns that can be combined\n",
    "- Redundant columns\n",
    "\n",
    "Our target column is `loan_status`. This column tells us wether the borrower completed the loan payment and under which circumstances.\n",
    "\n",
    "For more understanding of our data, let's print the first 5 rows:"
   ]
  },
  {
   "cell_type": "code",
   "execution_count": 3,
   "metadata": {
    "tags": [
     "hide_input"
    ]
   },
   "outputs": [
    {
     "data": {
      "text/html": [
       "<div>\n",
       "<style scoped>\n",
       "    .dataframe tbody tr th:only-of-type {\n",
       "        vertical-align: middle;\n",
       "    }\n",
       "\n",
       "    .dataframe tbody tr th {\n",
       "        vertical-align: top;\n",
       "    }\n",
       "\n",
       "    .dataframe thead th {\n",
       "        text-align: right;\n",
       "    }\n",
       "</style>\n",
       "<table border=\"1\" class=\"dataframe\">\n",
       "  <thead>\n",
       "    <tr style=\"text-align: right;\">\n",
       "      <th></th>\n",
       "      <th>id</th>\n",
       "      <th>member_id</th>\n",
       "      <th>loan_amnt</th>\n",
       "      <th>funded_amnt</th>\n",
       "      <th>funded_amnt_inv</th>\n",
       "      <th>term</th>\n",
       "      <th>int_rate</th>\n",
       "      <th>installment</th>\n",
       "      <th>grade</th>\n",
       "      <th>sub_grade</th>\n",
       "      <th>emp_title</th>\n",
       "      <th>emp_length</th>\n",
       "      <th>home_ownership</th>\n",
       "      <th>annual_inc</th>\n",
       "      <th>verification_status</th>\n",
       "      <th>issue_d</th>\n",
       "      <th>loan_status</th>\n",
       "      <th>pymnt_plan</th>\n",
       "      <th>purpose</th>\n",
       "      <th>title</th>\n",
       "      <th>zip_code</th>\n",
       "      <th>addr_state</th>\n",
       "      <th>dti</th>\n",
       "      <th>delinq_2yrs</th>\n",
       "      <th>earliest_cr_line</th>\n",
       "      <th>inq_last_6mths</th>\n",
       "      <th>open_acc</th>\n",
       "      <th>pub_rec</th>\n",
       "      <th>revol_bal</th>\n",
       "      <th>revol_util</th>\n",
       "      <th>total_acc</th>\n",
       "      <th>initial_list_status</th>\n",
       "      <th>out_prncp</th>\n",
       "      <th>out_prncp_inv</th>\n",
       "      <th>total_pymnt</th>\n",
       "      <th>total_pymnt_inv</th>\n",
       "      <th>total_rec_prncp</th>\n",
       "      <th>total_rec_int</th>\n",
       "      <th>total_rec_late_fee</th>\n",
       "      <th>recoveries</th>\n",
       "      <th>collection_recovery_fee</th>\n",
       "      <th>last_pymnt_d</th>\n",
       "      <th>last_pymnt_amnt</th>\n",
       "      <th>last_credit_pull_d</th>\n",
       "      <th>collections_12_mths_ex_med</th>\n",
       "      <th>policy_code</th>\n",
       "      <th>application_type</th>\n",
       "      <th>acc_now_delinq</th>\n",
       "      <th>chargeoff_within_12_mths</th>\n",
       "      <th>delinq_amnt</th>\n",
       "      <th>pub_rec_bankruptcies</th>\n",
       "      <th>tax_liens</th>\n",
       "    </tr>\n",
       "  </thead>\n",
       "  <tbody>\n",
       "    <tr>\n",
       "      <th>0</th>\n",
       "      <td>1077501</td>\n",
       "      <td>1296599.0</td>\n",
       "      <td>5000.0</td>\n",
       "      <td>5000.0</td>\n",
       "      <td>4975.0</td>\n",
       "      <td>36 months</td>\n",
       "      <td>10.65%</td>\n",
       "      <td>162.87</td>\n",
       "      <td>B</td>\n",
       "      <td>B2</td>\n",
       "      <td>NaN</td>\n",
       "      <td>10+ years</td>\n",
       "      <td>RENT</td>\n",
       "      <td>24000.0</td>\n",
       "      <td>Verified</td>\n",
       "      <td>Dec-2011</td>\n",
       "      <td>Fully Paid</td>\n",
       "      <td>n</td>\n",
       "      <td>credit_card</td>\n",
       "      <td>Computer</td>\n",
       "      <td>860xx</td>\n",
       "      <td>AZ</td>\n",
       "      <td>27.65</td>\n",
       "      <td>0.0</td>\n",
       "      <td>Jan-1985</td>\n",
       "      <td>1.0</td>\n",
       "      <td>3.0</td>\n",
       "      <td>0.0</td>\n",
       "      <td>13648.0</td>\n",
       "      <td>83.7%</td>\n",
       "      <td>9.0</td>\n",
       "      <td>f</td>\n",
       "      <td>0.00</td>\n",
       "      <td>0.00</td>\n",
       "      <td>5863.155187</td>\n",
       "      <td>5833.84</td>\n",
       "      <td>5000.00</td>\n",
       "      <td>863.16</td>\n",
       "      <td>0.00</td>\n",
       "      <td>0.00</td>\n",
       "      <td>0.00</td>\n",
       "      <td>Jan-2015</td>\n",
       "      <td>171.62</td>\n",
       "      <td>Jun-2016</td>\n",
       "      <td>0.0</td>\n",
       "      <td>1.0</td>\n",
       "      <td>INDIVIDUAL</td>\n",
       "      <td>0.0</td>\n",
       "      <td>0.0</td>\n",
       "      <td>0.0</td>\n",
       "      <td>0.0</td>\n",
       "      <td>0.0</td>\n",
       "    </tr>\n",
       "    <tr>\n",
       "      <th>1</th>\n",
       "      <td>1077430</td>\n",
       "      <td>1314167.0</td>\n",
       "      <td>2500.0</td>\n",
       "      <td>2500.0</td>\n",
       "      <td>2500.0</td>\n",
       "      <td>60 months</td>\n",
       "      <td>15.27%</td>\n",
       "      <td>59.83</td>\n",
       "      <td>C</td>\n",
       "      <td>C4</td>\n",
       "      <td>Ryder</td>\n",
       "      <td>&lt; 1 year</td>\n",
       "      <td>RENT</td>\n",
       "      <td>30000.0</td>\n",
       "      <td>Source Verified</td>\n",
       "      <td>Dec-2011</td>\n",
       "      <td>Charged Off</td>\n",
       "      <td>n</td>\n",
       "      <td>car</td>\n",
       "      <td>bike</td>\n",
       "      <td>309xx</td>\n",
       "      <td>GA</td>\n",
       "      <td>1.00</td>\n",
       "      <td>0.0</td>\n",
       "      <td>Apr-1999</td>\n",
       "      <td>5.0</td>\n",
       "      <td>3.0</td>\n",
       "      <td>0.0</td>\n",
       "      <td>1687.0</td>\n",
       "      <td>9.4%</td>\n",
       "      <td>4.0</td>\n",
       "      <td>f</td>\n",
       "      <td>0.00</td>\n",
       "      <td>0.00</td>\n",
       "      <td>1008.710000</td>\n",
       "      <td>1008.71</td>\n",
       "      <td>456.46</td>\n",
       "      <td>435.17</td>\n",
       "      <td>0.00</td>\n",
       "      <td>117.08</td>\n",
       "      <td>1.11</td>\n",
       "      <td>Apr-2013</td>\n",
       "      <td>119.66</td>\n",
       "      <td>Sep-2013</td>\n",
       "      <td>0.0</td>\n",
       "      <td>1.0</td>\n",
       "      <td>INDIVIDUAL</td>\n",
       "      <td>0.0</td>\n",
       "      <td>0.0</td>\n",
       "      <td>0.0</td>\n",
       "      <td>0.0</td>\n",
       "      <td>0.0</td>\n",
       "    </tr>\n",
       "    <tr>\n",
       "      <th>2</th>\n",
       "      <td>1077175</td>\n",
       "      <td>1313524.0</td>\n",
       "      <td>2400.0</td>\n",
       "      <td>2400.0</td>\n",
       "      <td>2400.0</td>\n",
       "      <td>36 months</td>\n",
       "      <td>15.96%</td>\n",
       "      <td>84.33</td>\n",
       "      <td>C</td>\n",
       "      <td>C5</td>\n",
       "      <td>NaN</td>\n",
       "      <td>10+ years</td>\n",
       "      <td>RENT</td>\n",
       "      <td>12252.0</td>\n",
       "      <td>Not Verified</td>\n",
       "      <td>Dec-2011</td>\n",
       "      <td>Fully Paid</td>\n",
       "      <td>n</td>\n",
       "      <td>small_business</td>\n",
       "      <td>real estate business</td>\n",
       "      <td>606xx</td>\n",
       "      <td>IL</td>\n",
       "      <td>8.72</td>\n",
       "      <td>0.0</td>\n",
       "      <td>Nov-2001</td>\n",
       "      <td>2.0</td>\n",
       "      <td>2.0</td>\n",
       "      <td>0.0</td>\n",
       "      <td>2956.0</td>\n",
       "      <td>98.5%</td>\n",
       "      <td>10.0</td>\n",
       "      <td>f</td>\n",
       "      <td>0.00</td>\n",
       "      <td>0.00</td>\n",
       "      <td>3005.666844</td>\n",
       "      <td>3005.67</td>\n",
       "      <td>2400.00</td>\n",
       "      <td>605.67</td>\n",
       "      <td>0.00</td>\n",
       "      <td>0.00</td>\n",
       "      <td>0.00</td>\n",
       "      <td>Jun-2014</td>\n",
       "      <td>649.91</td>\n",
       "      <td>Jun-2016</td>\n",
       "      <td>0.0</td>\n",
       "      <td>1.0</td>\n",
       "      <td>INDIVIDUAL</td>\n",
       "      <td>0.0</td>\n",
       "      <td>0.0</td>\n",
       "      <td>0.0</td>\n",
       "      <td>0.0</td>\n",
       "      <td>0.0</td>\n",
       "    </tr>\n",
       "    <tr>\n",
       "      <th>3</th>\n",
       "      <td>1076863</td>\n",
       "      <td>1277178.0</td>\n",
       "      <td>10000.0</td>\n",
       "      <td>10000.0</td>\n",
       "      <td>10000.0</td>\n",
       "      <td>36 months</td>\n",
       "      <td>13.49%</td>\n",
       "      <td>339.31</td>\n",
       "      <td>C</td>\n",
       "      <td>C1</td>\n",
       "      <td>AIR RESOURCES BOARD</td>\n",
       "      <td>10+ years</td>\n",
       "      <td>RENT</td>\n",
       "      <td>49200.0</td>\n",
       "      <td>Source Verified</td>\n",
       "      <td>Dec-2011</td>\n",
       "      <td>Fully Paid</td>\n",
       "      <td>n</td>\n",
       "      <td>other</td>\n",
       "      <td>personel</td>\n",
       "      <td>917xx</td>\n",
       "      <td>CA</td>\n",
       "      <td>20.00</td>\n",
       "      <td>0.0</td>\n",
       "      <td>Feb-1996</td>\n",
       "      <td>1.0</td>\n",
       "      <td>10.0</td>\n",
       "      <td>0.0</td>\n",
       "      <td>5598.0</td>\n",
       "      <td>21%</td>\n",
       "      <td>37.0</td>\n",
       "      <td>f</td>\n",
       "      <td>0.00</td>\n",
       "      <td>0.00</td>\n",
       "      <td>12231.890000</td>\n",
       "      <td>12231.89</td>\n",
       "      <td>10000.00</td>\n",
       "      <td>2214.92</td>\n",
       "      <td>16.97</td>\n",
       "      <td>0.00</td>\n",
       "      <td>0.00</td>\n",
       "      <td>Jan-2015</td>\n",
       "      <td>357.48</td>\n",
       "      <td>Apr-2016</td>\n",
       "      <td>0.0</td>\n",
       "      <td>1.0</td>\n",
       "      <td>INDIVIDUAL</td>\n",
       "      <td>0.0</td>\n",
       "      <td>0.0</td>\n",
       "      <td>0.0</td>\n",
       "      <td>0.0</td>\n",
       "      <td>0.0</td>\n",
       "    </tr>\n",
       "    <tr>\n",
       "      <th>4</th>\n",
       "      <td>1075358</td>\n",
       "      <td>1311748.0</td>\n",
       "      <td>3000.0</td>\n",
       "      <td>3000.0</td>\n",
       "      <td>3000.0</td>\n",
       "      <td>60 months</td>\n",
       "      <td>12.69%</td>\n",
       "      <td>67.79</td>\n",
       "      <td>B</td>\n",
       "      <td>B5</td>\n",
       "      <td>University Medical Group</td>\n",
       "      <td>1 year</td>\n",
       "      <td>RENT</td>\n",
       "      <td>80000.0</td>\n",
       "      <td>Source Verified</td>\n",
       "      <td>Dec-2011</td>\n",
       "      <td>Current</td>\n",
       "      <td>n</td>\n",
       "      <td>other</td>\n",
       "      <td>Personal</td>\n",
       "      <td>972xx</td>\n",
       "      <td>OR</td>\n",
       "      <td>17.94</td>\n",
       "      <td>0.0</td>\n",
       "      <td>Jan-1996</td>\n",
       "      <td>0.0</td>\n",
       "      <td>15.0</td>\n",
       "      <td>0.0</td>\n",
       "      <td>27783.0</td>\n",
       "      <td>53.9%</td>\n",
       "      <td>38.0</td>\n",
       "      <td>f</td>\n",
       "      <td>461.73</td>\n",
       "      <td>461.73</td>\n",
       "      <td>3581.120000</td>\n",
       "      <td>3581.12</td>\n",
       "      <td>2538.27</td>\n",
       "      <td>1042.85</td>\n",
       "      <td>0.00</td>\n",
       "      <td>0.00</td>\n",
       "      <td>0.00</td>\n",
       "      <td>Jun-2016</td>\n",
       "      <td>67.79</td>\n",
       "      <td>Jun-2016</td>\n",
       "      <td>0.0</td>\n",
       "      <td>1.0</td>\n",
       "      <td>INDIVIDUAL</td>\n",
       "      <td>0.0</td>\n",
       "      <td>0.0</td>\n",
       "      <td>0.0</td>\n",
       "      <td>0.0</td>\n",
       "      <td>0.0</td>\n",
       "    </tr>\n",
       "  </tbody>\n",
       "</table>\n",
       "</div>"
      ],
      "text/plain": [
       "        id  member_id  loan_amnt  funded_amnt  funded_amnt_inv        term  \\\n",
       "0  1077501  1296599.0     5000.0       5000.0           4975.0   36 months   \n",
       "1  1077430  1314167.0     2500.0       2500.0           2500.0   60 months   \n",
       "2  1077175  1313524.0     2400.0       2400.0           2400.0   36 months   \n",
       "3  1076863  1277178.0    10000.0      10000.0          10000.0   36 months   \n",
       "4  1075358  1311748.0     3000.0       3000.0           3000.0   60 months   \n",
       "\n",
       "  int_rate  installment grade sub_grade                 emp_title emp_length  \\\n",
       "0   10.65%       162.87     B        B2                       NaN  10+ years   \n",
       "1   15.27%        59.83     C        C4                     Ryder   < 1 year   \n",
       "2   15.96%        84.33     C        C5                       NaN  10+ years   \n",
       "3   13.49%       339.31     C        C1       AIR RESOURCES BOARD  10+ years   \n",
       "4   12.69%        67.79     B        B5  University Medical Group     1 year   \n",
       "\n",
       "  home_ownership  annual_inc verification_status   issue_d  loan_status  \\\n",
       "0           RENT     24000.0            Verified  Dec-2011   Fully Paid   \n",
       "1           RENT     30000.0     Source Verified  Dec-2011  Charged Off   \n",
       "2           RENT     12252.0        Not Verified  Dec-2011   Fully Paid   \n",
       "3           RENT     49200.0     Source Verified  Dec-2011   Fully Paid   \n",
       "4           RENT     80000.0     Source Verified  Dec-2011      Current   \n",
       "\n",
       "  pymnt_plan         purpose                 title zip_code addr_state    dti  \\\n",
       "0          n     credit_card              Computer    860xx         AZ  27.65   \n",
       "1          n             car                  bike    309xx         GA   1.00   \n",
       "2          n  small_business  real estate business    606xx         IL   8.72   \n",
       "3          n           other              personel    917xx         CA  20.00   \n",
       "4          n           other              Personal    972xx         OR  17.94   \n",
       "\n",
       "   delinq_2yrs earliest_cr_line  inq_last_6mths  open_acc  pub_rec  revol_bal  \\\n",
       "0          0.0         Jan-1985             1.0       3.0      0.0    13648.0   \n",
       "1          0.0         Apr-1999             5.0       3.0      0.0     1687.0   \n",
       "2          0.0         Nov-2001             2.0       2.0      0.0     2956.0   \n",
       "3          0.0         Feb-1996             1.0      10.0      0.0     5598.0   \n",
       "4          0.0         Jan-1996             0.0      15.0      0.0    27783.0   \n",
       "\n",
       "  revol_util  total_acc initial_list_status  out_prncp  out_prncp_inv  \\\n",
       "0      83.7%        9.0                   f       0.00           0.00   \n",
       "1       9.4%        4.0                   f       0.00           0.00   \n",
       "2      98.5%       10.0                   f       0.00           0.00   \n",
       "3        21%       37.0                   f       0.00           0.00   \n",
       "4      53.9%       38.0                   f     461.73         461.73   \n",
       "\n",
       "    total_pymnt  total_pymnt_inv  total_rec_prncp  total_rec_int  \\\n",
       "0   5863.155187          5833.84          5000.00         863.16   \n",
       "1   1008.710000          1008.71           456.46         435.17   \n",
       "2   3005.666844          3005.67          2400.00         605.67   \n",
       "3  12231.890000         12231.89         10000.00        2214.92   \n",
       "4   3581.120000          3581.12          2538.27        1042.85   \n",
       "\n",
       "   total_rec_late_fee  recoveries  collection_recovery_fee last_pymnt_d  \\\n",
       "0                0.00        0.00                     0.00     Jan-2015   \n",
       "1                0.00      117.08                     1.11     Apr-2013   \n",
       "2                0.00        0.00                     0.00     Jun-2014   \n",
       "3               16.97        0.00                     0.00     Jan-2015   \n",
       "4                0.00        0.00                     0.00     Jun-2016   \n",
       "\n",
       "   last_pymnt_amnt last_credit_pull_d  collections_12_mths_ex_med  \\\n",
       "0           171.62           Jun-2016                         0.0   \n",
       "1           119.66           Sep-2013                         0.0   \n",
       "2           649.91           Jun-2016                         0.0   \n",
       "3           357.48           Apr-2016                         0.0   \n",
       "4            67.79           Jun-2016                         0.0   \n",
       "\n",
       "   policy_code application_type  acc_now_delinq  chargeoff_within_12_mths  \\\n",
       "0          1.0       INDIVIDUAL             0.0                       0.0   \n",
       "1          1.0       INDIVIDUAL             0.0                       0.0   \n",
       "2          1.0       INDIVIDUAL             0.0                       0.0   \n",
       "3          1.0       INDIVIDUAL             0.0                       0.0   \n",
       "4          1.0       INDIVIDUAL             0.0                       0.0   \n",
       "\n",
       "   delinq_amnt  pub_rec_bankruptcies  tax_liens  \n",
       "0          0.0                   0.0        0.0  \n",
       "1          0.0                   0.0        0.0  \n",
       "2          0.0                   0.0        0.0  \n",
       "3          0.0                   0.0        0.0  \n",
       "4          0.0                   0.0        0.0  "
      ]
     },
     "execution_count": 3,
     "metadata": {},
     "output_type": "execute_result"
    }
   ],
   "source": [
    "loans_2007.head()"
   ]
  },
  {
   "cell_type": "code",
   "execution_count": 4,
   "metadata": {
    "tags": [
     "hide_input"
    ]
   },
   "outputs": [
    {
     "name": "stdout",
     "output_type": "stream",
     "text": [
      "Number of rows:  42538\n",
      "Number of columns:  52\n"
     ]
    }
   ],
   "source": [
    "print('Number of rows: ',loans_2007.shape[0])\n",
    "print('Number of columns: ',loans_2007.shape[1])"
   ]
  },
  {
   "cell_type": "markdown",
   "metadata": {},
   "source": [
    "## Data cleaning"
   ]
  },
  {
   "cell_type": "markdown",
   "metadata": {},
   "source": [
    "### Eliminating irrelevant columns and treating missing values"
   ]
  },
  {
   "cell_type": "code",
   "execution_count": 5,
   "metadata": {
    "tags": [
     "hide_input"
    ]
   },
   "outputs": [
    {
     "name": "stdout",
     "output_type": "stream",
     "text": [
      "Columns to drop: 1st round \n",
      "\n",
      "  -  acc_now_delinq\n",
      "  -  chargeoff_within_12_mths\n",
      "  -  collection_recovery_fee\n",
      "  -  collections_12_mths_ex_med\n",
      "  -  delinq_amnt\n",
      "  -  emp_title\n",
      "  -  funded_amnt\n",
      "  -  funded_amnt_inv\n",
      "  -  grade\n",
      "  -  id\n",
      "  -  initial_list_status\n",
      "  -  issue_d\n",
      "  -  last_pymnt_amnt\n",
      "  -  last_pymnt_d\n",
      "  -  member_id\n",
      "  -  out_prncp\n",
      "  -  out_prncp_inv\n",
      "  -  policy_code\n",
      "  -  recoveries\n",
      "  -  sub_grade\n",
      "  -  total_pymnt\n",
      "  -  total_pymnt_inv\n",
      "  -  total_rec_int\n",
      "  -  total_rec_late_fee\n",
      "  -  total_rec_prncp\n",
      "  -  zip_code\n"
     ]
    }
   ],
   "source": [
    "relevant_columns = ['loan_amnt','term','int_rate','installment',\n",
    "                   'emp_length','home_ownership','annual_inc',\n",
    "                   'pymnt_plan','purpose','addr_state','delinq_2yrs',\n",
    "                   'earliest_cr_line','inq_last_6mths',\n",
    "                    'open_acc','pub_rec','total_acc','application_type',\n",
    "                    'tax_liens','verification_status','title','dti',\n",
    "                    'revol_bal','revol_util','last_credit_pull_d', \n",
    "                    'pub_rec_bankruptcies',                 \n",
    "                    'loan_status' #target col\n",
    "                   ]\n",
    "# grade and sub_grade not included since they include redundant info from int_rate\n",
    "# earliest_cr_line : create new feature: years since first credit line\n",
    "#inq_last_ [6 and 12] months: figure sth out\n",
    "relevant_columns\n",
    "drop_columns = loans_2007.columns.difference(relevant_columns)\n",
    "print_list(drop_columns.tolist(),'Columns to drop: 1st round')"
   ]
  },
  {
   "cell_type": "code",
   "execution_count": 6,
   "metadata": {
    "tags": [
     "hide_input"
    ]
   },
   "outputs": [],
   "source": [
    "loans_2007=loans_2007.drop(drop_columns,axis=1) #drop columns"
   ]
  },
  {
   "cell_type": "code",
   "execution_count": 7,
   "metadata": {
    "tags": [
     "hide_input"
    ]
   },
   "outputs": [
    {
     "name": "stdout",
     "output_type": "stream",
     "text": [
      "Types of loan status - before filtering data \n",
      "\n",
      "Fully Paid                                             33136\n",
      "Charged Off                                             5634\n",
      "Does not meet the credit policy. Status:Fully Paid      1988\n",
      "Current                                                  961\n",
      "Does not meet the credit policy. Status:Charged Off      761\n",
      "Late (31-120 days)                                        24\n",
      "In Grace Period                                           20\n",
      "Late (16-30 days)                                          8\n",
      "Default                                                    3\n"
     ]
    }
   ],
   "source": [
    "print_series(loans_2007['loan_status'].value_counts(),'Types of loan status - before filtering data')"
   ]
  },
  {
   "cell_type": "code",
   "execution_count": 8,
   "metadata": {
    "tags": [
     "hide_input"
    ]
   },
   "outputs": [
    {
     "name": "stdout",
     "output_type": "stream",
     "text": [
      "Types of loan status - fully paid = 1, charged off = 0 \n",
      "\n",
      "1    33136\n",
      "0     5634\n"
     ]
    }
   ],
   "source": [
    "# keep loans fully paid or charged off only\n",
    "loans_2007 = loans_2007[\n",
    "    (loans_2007['loan_status'] == 'Fully Paid') |\n",
    "    (loans_2007['loan_status'] == 'Charged Off') \n",
    "     ]\n",
    "\n",
    "# transform fully paid and charged off to numeric values\n",
    "mapping_dict = {\n",
    "    'loan_status': {\n",
    "        'Fully Paid': 1,\n",
    "        'Charged Off': 0\n",
    "    }\n",
    "}\n",
    "loans_2007 = loans_2007.replace(mapping_dict)\n",
    "\n",
    "print_series(loans_2007['loan_status'].value_counts(),'Types of loan status - fully paid = 1, charged off = 0')"
   ]
  },
  {
   "cell_type": "markdown",
   "metadata": {},
   "source": [
    "There are way more paid off than charged off loans, which means that our model will tend to predict more 1 (paid off) loans than charged off - biased model."
   ]
  },
  {
   "cell_type": "code",
   "execution_count": 9,
   "metadata": {
    "tags": [
     "hide_input",
     "hide_output"
    ]
   },
   "outputs": [
    {
     "data": {
      "text/plain": [
       "array([ 0., nan])"
      ]
     },
     "execution_count": 9,
     "metadata": {},
     "output_type": "execute_result"
    }
   ],
   "source": [
    "loans_2007['tax_liens'].unique() # drop this column, not relevant for predictions"
   ]
  },
  {
   "cell_type": "code",
   "execution_count": 10,
   "metadata": {
    "tags": [
     "hide_input"
    ]
   },
   "outputs": [
    {
     "name": "stdout",
     "output_type": "stream",
     "text": [
      "Columns to drop: 2nd round: We will drop columns that have one unique value \n",
      "\n",
      "  -  pymnt_plan\n",
      "  -  application_type\n",
      "  -  tax_liens\n"
     ]
    }
   ],
   "source": [
    "# drop columns that contain only 1 unique value besides null\n",
    "\n",
    "drop_columns = []\n",
    "\n",
    "for col in loans_2007.columns:\n",
    "    non_null_vals = loans_2007[col].dropna()\n",
    "    unique_vals = non_null_vals.unique()\n",
    "    num_unique_vals = len(unique_vals)\n",
    "    if num_unique_vals == 1:\n",
    "        drop_columns.append(col)\n",
    "\n",
    "loans_2007 = loans_2007.drop(drop_columns,axis=1)\n",
    "\n",
    "print_list(drop_columns,'Columns to drop: 2nd round: We will drop columns that have one unique value')"
   ]
  },
  {
   "cell_type": "code",
   "execution_count": 11,
   "metadata": {
    "tags": [
     "hide_input"
    ]
   },
   "outputs": [
    {
     "name": "stdout",
     "output_type": "stream",
     "text": [
      "List of null values \n",
      "\n",
      "emp_length              1036\n",
      "title                     11\n",
      "revol_util                50\n",
      "last_credit_pull_d         2\n",
      "pub_rec_bankruptcies     697\n"
     ]
    }
   ],
   "source": [
    "null_vals = loans_2007.isnull().sum()\n",
    "\n",
    "print_series(null_vals[null_vals > 0],'List of null values')"
   ]
  },
  {
   "cell_type": "code",
   "execution_count": 12,
   "metadata": {
    "tags": [
     "hide_input"
    ]
   },
   "outputs": [
    {
     "name": "stdout",
     "output_type": "stream",
     "text": [
      "Value count: pub_rec_bankruptcies \n",
      "\n",
      "0.0    36422\n",
      "1.0     1646\n",
      "2.0        5\n"
     ]
    }
   ],
   "source": [
    "print_series(loans_2007['pub_rec_bankruptcies'].value_counts(),'Value count: pub_rec_bankruptcies')"
   ]
  },
  {
   "cell_type": "markdown",
   "metadata": {},
   "source": [
    "As we can see above, `pub_rec_bankruptcies` offers little to no variability. We'll drop this column."
   ]
  },
  {
   "cell_type": "code",
   "execution_count": 13,
   "metadata": {
    "tags": [
     "hide_input"
    ]
   },
   "outputs": [],
   "source": [
    "loans_2007.drop(['pub_rec_bankruptcies'],axis=1,inplace=True)"
   ]
  },
  {
   "cell_type": "code",
   "execution_count": 14,
   "metadata": {
    "tags": [
     "hide_input"
    ]
   },
   "outputs": [
    {
     "name": "stdout",
     "output_type": "stream",
     "text": [
      "Missing emp_length values: 2.67% of total values.\n"
     ]
    }
   ],
   "source": [
    "print('Missing emp_length values: {:.2f}% of total values.'.format(\n",
    "      100 * null_vals['emp_length']/len(loans_2007)))"
   ]
  },
  {
   "cell_type": "markdown",
   "metadata": {},
   "source": [
    "There are 1036 missing values in the column `emp_length`. Although we could impute these values using the mode, we can afford dropping all the rows with na values, since they represent less than a 3% of the total number of rows."
   ]
  },
  {
   "cell_type": "code",
   "execution_count": 15,
   "metadata": {
    "tags": [
     "hide_input"
    ]
   },
   "outputs": [
    {
     "name": "stdout",
     "output_type": "stream",
     "text": [
      "Missing values count - cleaned data \n",
      "\n",
      "loan_amnt              0\n",
      "term                   0\n",
      "int_rate               0\n",
      "installment            0\n",
      "emp_length             0\n",
      "home_ownership         0\n",
      "annual_inc             0\n",
      "verification_status    0\n",
      "loan_status            0\n",
      "purpose                0\n",
      "title                  0\n",
      "addr_state             0\n",
      "dti                    0\n",
      "delinq_2yrs            0\n",
      "earliest_cr_line       0\n",
      "inq_last_6mths         0\n",
      "open_acc               0\n",
      "pub_rec                0\n",
      "revol_bal              0\n",
      "revol_util             0\n",
      "total_acc              0\n",
      "last_credit_pull_d     0\n"
     ]
    }
   ],
   "source": [
    "loans_2007.dropna(inplace=True)\n",
    "loans_2007 = loans_2007.reset_index(drop=True) # reset indexes\n",
    "print_series(loans_2007.isnull().sum(),\"Missing values count - cleaned data\")"
   ]
  },
  {
   "cell_type": "markdown",
   "metadata": {},
   "source": [
    "## Feature processing and selection\n",
    "Our machine learning model will only work with numeric columns. Since we have valuable columns with categorical values, we will proceed by creating dummy variables for these. We will also eliminate categorical features that contain an excesive number of unique values, since this would require too many dummy variables and would slow our model down."
   ]
  },
  {
   "cell_type": "code",
   "execution_count": 16,
   "metadata": {
    "tags": [
     "hide_input"
    ]
   },
   "outputs": [
    {
     "name": "stdout",
     "output_type": "stream",
     "text": [
      "Column types \n",
      "\n",
      "object     11\n",
      "float64    10\n",
      "int64       1\n"
     ]
    }
   ],
   "source": [
    "print_series(loans_2007.dtypes.value_counts(),\"Column types\")"
   ]
  },
  {
   "cell_type": "code",
   "execution_count": 17,
   "metadata": {
    "tags": [
     "hide_input"
    ]
   },
   "outputs": [
    {
     "data": {
      "text/html": [
       "<div>\n",
       "<style scoped>\n",
       "    .dataframe tbody tr th:only-of-type {\n",
       "        vertical-align: middle;\n",
       "    }\n",
       "\n",
       "    .dataframe tbody tr th {\n",
       "        vertical-align: top;\n",
       "    }\n",
       "\n",
       "    .dataframe thead th {\n",
       "        text-align: right;\n",
       "    }\n",
       "</style>\n",
       "<table border=\"1\" class=\"dataframe\">\n",
       "  <thead>\n",
       "    <tr style=\"text-align: right;\">\n",
       "      <th></th>\n",
       "      <th>term</th>\n",
       "      <th>int_rate</th>\n",
       "      <th>emp_length</th>\n",
       "      <th>home_ownership</th>\n",
       "      <th>verification_status</th>\n",
       "      <th>purpose</th>\n",
       "      <th>title</th>\n",
       "      <th>addr_state</th>\n",
       "      <th>earliest_cr_line</th>\n",
       "      <th>revol_util</th>\n",
       "      <th>last_credit_pull_d</th>\n",
       "    </tr>\n",
       "  </thead>\n",
       "  <tbody>\n",
       "    <tr>\n",
       "      <th>0</th>\n",
       "      <td>36 months</td>\n",
       "      <td>10.65%</td>\n",
       "      <td>10+ years</td>\n",
       "      <td>RENT</td>\n",
       "      <td>Verified</td>\n",
       "      <td>credit_card</td>\n",
       "      <td>Computer</td>\n",
       "      <td>AZ</td>\n",
       "      <td>Jan-1985</td>\n",
       "      <td>83.7%</td>\n",
       "      <td>Jun-2016</td>\n",
       "    </tr>\n",
       "  </tbody>\n",
       "</table>\n",
       "</div>"
      ],
      "text/plain": [
       "         term int_rate emp_length home_ownership verification_status  \\\n",
       "0   36 months   10.65%  10+ years           RENT            Verified   \n",
       "\n",
       "       purpose     title addr_state earliest_cr_line revol_util  \\\n",
       "0  credit_card  Computer         AZ         Jan-1985      83.7%   \n",
       "\n",
       "  last_credit_pull_d  \n",
       "0           Jun-2016  "
      ]
     },
     "execution_count": 17,
     "metadata": {},
     "output_type": "execute_result"
    }
   ],
   "source": [
    "object_cols_df = loans_2007.select_dtypes(include='object')\n",
    "object_cols_df.head(1)"
   ]
  },
  {
   "cell_type": "markdown",
   "metadata": {},
   "source": [
    "As seen above, we have 11 columns that contain text values. We will proceed as follows:\n",
    "\n",
    "__Drop columns:__\n",
    "\n",
    "- `last_credit_pull_d`: Requires exhaustive feature engineering\n",
    "- `addr_state`: Has too many values\n",
    "- `title`': Has too many values\n",
    "- `earliest_cr_line`: Requires exhaustive feature engineering\n",
    "\n",
    "The rest of the columns will be treated, either switching the string values to numeric values (one number per value) or eliminating any unnecessary string values -i.e. percent symbol.\n",
    "\n",
    "Our cleaned data, before creating dummy variables, looks as follows:"
   ]
  },
  {
   "cell_type": "code",
   "execution_count": 18,
   "metadata": {
    "tags": [
     "hide_input"
    ]
   },
   "outputs": [
    {
     "data": {
      "text/html": [
       "<div>\n",
       "<style scoped>\n",
       "    .dataframe tbody tr th:only-of-type {\n",
       "        vertical-align: middle;\n",
       "    }\n",
       "\n",
       "    .dataframe tbody tr th {\n",
       "        vertical-align: top;\n",
       "    }\n",
       "\n",
       "    .dataframe thead th {\n",
       "        text-align: right;\n",
       "    }\n",
       "</style>\n",
       "<table border=\"1\" class=\"dataframe\">\n",
       "  <thead>\n",
       "    <tr style=\"text-align: right;\">\n",
       "      <th></th>\n",
       "      <th>loan_amnt</th>\n",
       "      <th>term</th>\n",
       "      <th>int_rate</th>\n",
       "      <th>installment</th>\n",
       "      <th>emp_length</th>\n",
       "      <th>home_ownership</th>\n",
       "      <th>annual_inc</th>\n",
       "      <th>verification_status</th>\n",
       "      <th>loan_status</th>\n",
       "      <th>purpose</th>\n",
       "      <th>dti</th>\n",
       "      <th>delinq_2yrs</th>\n",
       "      <th>inq_last_6mths</th>\n",
       "      <th>open_acc</th>\n",
       "      <th>pub_rec</th>\n",
       "      <th>revol_bal</th>\n",
       "      <th>revol_util</th>\n",
       "      <th>total_acc</th>\n",
       "    </tr>\n",
       "  </thead>\n",
       "  <tbody>\n",
       "    <tr>\n",
       "      <th>0</th>\n",
       "      <td>5000.0</td>\n",
       "      <td>36 months</td>\n",
       "      <td>10.65</td>\n",
       "      <td>162.87</td>\n",
       "      <td>10</td>\n",
       "      <td>RENT</td>\n",
       "      <td>24000.0</td>\n",
       "      <td>Verified</td>\n",
       "      <td>1</td>\n",
       "      <td>credit_card</td>\n",
       "      <td>27.65</td>\n",
       "      <td>0.0</td>\n",
       "      <td>1.0</td>\n",
       "      <td>3.0</td>\n",
       "      <td>0.0</td>\n",
       "      <td>13648.0</td>\n",
       "      <td>83.7</td>\n",
       "      <td>9.0</td>\n",
       "    </tr>\n",
       "    <tr>\n",
       "      <th>1</th>\n",
       "      <td>2500.0</td>\n",
       "      <td>60 months</td>\n",
       "      <td>15.27</td>\n",
       "      <td>59.83</td>\n",
       "      <td>0</td>\n",
       "      <td>RENT</td>\n",
       "      <td>30000.0</td>\n",
       "      <td>Source Verified</td>\n",
       "      <td>0</td>\n",
       "      <td>car</td>\n",
       "      <td>1.00</td>\n",
       "      <td>0.0</td>\n",
       "      <td>5.0</td>\n",
       "      <td>3.0</td>\n",
       "      <td>0.0</td>\n",
       "      <td>1687.0</td>\n",
       "      <td>9.4</td>\n",
       "      <td>4.0</td>\n",
       "    </tr>\n",
       "    <tr>\n",
       "      <th>2</th>\n",
       "      <td>2400.0</td>\n",
       "      <td>36 months</td>\n",
       "      <td>15.96</td>\n",
       "      <td>84.33</td>\n",
       "      <td>10</td>\n",
       "      <td>RENT</td>\n",
       "      <td>12252.0</td>\n",
       "      <td>Not Verified</td>\n",
       "      <td>1</td>\n",
       "      <td>small_business</td>\n",
       "      <td>8.72</td>\n",
       "      <td>0.0</td>\n",
       "      <td>2.0</td>\n",
       "      <td>2.0</td>\n",
       "      <td>0.0</td>\n",
       "      <td>2956.0</td>\n",
       "      <td>98.5</td>\n",
       "      <td>10.0</td>\n",
       "    </tr>\n",
       "    <tr>\n",
       "      <th>3</th>\n",
       "      <td>10000.0</td>\n",
       "      <td>36 months</td>\n",
       "      <td>13.49</td>\n",
       "      <td>339.31</td>\n",
       "      <td>10</td>\n",
       "      <td>RENT</td>\n",
       "      <td>49200.0</td>\n",
       "      <td>Source Verified</td>\n",
       "      <td>1</td>\n",
       "      <td>other</td>\n",
       "      <td>20.00</td>\n",
       "      <td>0.0</td>\n",
       "      <td>1.0</td>\n",
       "      <td>10.0</td>\n",
       "      <td>0.0</td>\n",
       "      <td>5598.0</td>\n",
       "      <td>21.0</td>\n",
       "      <td>37.0</td>\n",
       "    </tr>\n",
       "    <tr>\n",
       "      <th>4</th>\n",
       "      <td>5000.0</td>\n",
       "      <td>36 months</td>\n",
       "      <td>7.90</td>\n",
       "      <td>156.46</td>\n",
       "      <td>3</td>\n",
       "      <td>RENT</td>\n",
       "      <td>36000.0</td>\n",
       "      <td>Source Verified</td>\n",
       "      <td>1</td>\n",
       "      <td>wedding</td>\n",
       "      <td>11.20</td>\n",
       "      <td>0.0</td>\n",
       "      <td>3.0</td>\n",
       "      <td>9.0</td>\n",
       "      <td>0.0</td>\n",
       "      <td>7963.0</td>\n",
       "      <td>28.3</td>\n",
       "      <td>12.0</td>\n",
       "    </tr>\n",
       "  </tbody>\n",
       "</table>\n",
       "</div>"
      ],
      "text/plain": [
       "   loan_amnt        term  int_rate  installment emp_length home_ownership  \\\n",
       "0     5000.0   36 months     10.65       162.87         10           RENT   \n",
       "1     2500.0   60 months     15.27        59.83          0           RENT   \n",
       "2     2400.0   36 months     15.96        84.33         10           RENT   \n",
       "3    10000.0   36 months     13.49       339.31         10           RENT   \n",
       "4     5000.0   36 months      7.90       156.46          3           RENT   \n",
       "\n",
       "   annual_inc verification_status  loan_status         purpose    dti  \\\n",
       "0     24000.0            Verified            1     credit_card  27.65   \n",
       "1     30000.0     Source Verified            0             car   1.00   \n",
       "2     12252.0        Not Verified            1  small_business   8.72   \n",
       "3     49200.0     Source Verified            1           other  20.00   \n",
       "4     36000.0     Source Verified            1         wedding  11.20   \n",
       "\n",
       "   delinq_2yrs  inq_last_6mths  open_acc  pub_rec  revol_bal  revol_util  \\\n",
       "0          0.0             1.0       3.0      0.0    13648.0        83.7   \n",
       "1          0.0             5.0       3.0      0.0     1687.0         9.4   \n",
       "2          0.0             2.0       2.0      0.0     2956.0        98.5   \n",
       "3          0.0             1.0      10.0      0.0     5598.0        21.0   \n",
       "4          0.0             3.0       9.0      0.0     7963.0        28.3   \n",
       "\n",
       "   total_acc  \n",
       "0        9.0  \n",
       "1        4.0  \n",
       "2       10.0  \n",
       "3       37.0  \n",
       "4       12.0  "
      ]
     },
     "execution_count": 18,
     "metadata": {},
     "output_type": "execute_result"
    }
   ],
   "source": [
    "drop_cols = ['last_credit_pull_d', #requires exhaustive feature engineering\n",
    "             'addr_state', #would require 49 dummy variables\n",
    "             'title', #too many values\n",
    "             'earliest_cr_line' #requires exhaustive feature engineering\n",
    "            ]\n",
    "loans_2007.drop(drop_cols,axis=1,inplace=True)\n",
    "\n",
    "loans_2007['int_rate']=loans_2007['int_rate'].str.rstrip('%')\n",
    "loans_2007['int_rate']=loans_2007['int_rate'].astype('float')\n",
    "\n",
    "loans_2007['revol_util']=loans_2007['revol_util'].str.rstrip('%')\n",
    "loans_2007['revol_util']=loans_2007['revol_util'].astype('float')\n",
    "\n",
    "mapping_emp_length = { #converting to numeric values instead of categories\n",
    "    \"emp_length\": {\n",
    "        \"10+ years\": 10,\n",
    "        \"9 years\": 9,\n",
    "        \"8 years\": 8,\n",
    "        \"7 years\": 7,\n",
    "        \"6 years\": 6,\n",
    "        \"5 years\": 5,\n",
    "        \"4 years\": 4,\n",
    "        \"3 years\": 3,\n",
    "        \"2 years\": 2,\n",
    "        \"1 year\": 1,\n",
    "        \"< 1 year\": 0,\n",
    "        \"n/a\": 0\n",
    "    }\n",
    "}\n",
    "\n",
    "loans_2007=loans_2007.replace(mapping_emp_length)\n",
    "\n",
    "loans_2007.head()"
   ]
  },
  {
   "cell_type": "markdown",
   "metadata": {},
   "source": [
    "### Creating dummy variables\n",
    "We will create dummy variables for our categorical columns:\n",
    "- `home_ownership`\n",
    "- `verification_status`\n",
    "- `purpose`\n",
    "- `term`\n",
    "\n",
    "Once we create them, we will drop the text columns."
   ]
  },
  {
   "cell_type": "code",
   "execution_count": 19,
   "metadata": {
    "tags": [
     "hide_input"
    ]
   },
   "outputs": [],
   "source": [
    "dummy_df = pd.get_dummies(loans_2007[[\n",
    "    'home_ownership', 'verification_status', 'purpose', 'term'\n",
    "]])\n",
    "loans_2007 = pd.concat([loans_2007,dummy_df],axis=1) #adding dummy cols to df\n",
    "\n",
    "drop_cols = ['home_ownership', 'verification_status', 'purpose', 'term']\n",
    "loans_2007.drop(drop_cols,axis=1, inplace=True) #drop text cols"
   ]
  },
  {
   "cell_type": "markdown",
   "metadata": {},
   "source": [
    "## Development of prediction models"
   ]
  },
  {
   "cell_type": "markdown",
   "metadata": {},
   "source": [
    "### Error metric"
   ]
  },
  {
   "cell_type": "code",
   "execution_count": 20,
   "metadata": {
    "tags": [
     "hide_input"
    ]
   },
   "outputs": [
    {
     "name": "stdout",
     "output_type": "stream",
     "text": [
      "Possible outcomes of a binary classification prediction:\n",
      "\n",
      " loan_status  prediction           error\n",
      "           0           1  False Positive\n",
      "           0           0   True Negative\n",
      "           1           1   True Positive\n",
      "           1           0  False Negative\n"
     ]
    }
   ],
   "source": [
    "possibilities = {\n",
    "    \"loan_status\": [0,0,1,1],\n",
    "    \"prediction\": [1,0,1,0],\n",
    "    \"error\": [\"False Positive\",\n",
    "           \"True Negative\",\n",
    "           \"True Positive\",\n",
    "           \"False Negative\"]\n",
    "}\n",
    "print(\"Possible outcomes of a binary classification prediction:\\n\")\n",
    "print(pd.DataFrame(possibilities).to_string(index=False))"
   ]
  },
  {
   "cell_type": "markdown",
   "metadata": {},
   "source": [
    "__Loan status - possible outcomes__:\n",
    "- 1: Loan will be paid off on time.\n",
    "- 0: Loan will not be paid off on time.\n",
    "\n",
    "__Prediction errors__:\n",
    "- *False Positive*: Our model predicts 1 (will be paid off on time) but the actual status is 0 (not paid off on time). __This is our worst case scenario, since this approving such a loan would make us lose money.__\n",
    "\n",
    "- *False Negative*: Our model predicts 0 (not paid off on time) but the actual status is 1 (will be paid off on time). \n",
    "\n",
    "__Class imbalance__:\n",
    "\n",
    "Since we have way more loans that were paid off on time (1 values in our target `loans_2007['loan_status']`), our model will be more prone to predict that a loan will paid off on time. For this reason, using accuracy to measure the error metric is not the best approach.\n",
    "\n",
    "To determine our error metric, we will look at following parameters:\n",
    "\n",
    "__(rewrite formulas and explain)__\n",
    "- *High recall/True positive rate*: $ tpr = tp / (tp + fn) $\n",
    "- *Low fall-out/False positive rate*: $False_prate = false_p / (false_p + true_n)$\n",
    "\n",
    "The higher our recall, the better our model will predict positive cases -we will grant more loans that will be paid off, and the lower our fall-out, the better our model will predict negative cases -we will reject more loans that would not be paid off. These two ratios are correlated and will fluctuate. \n",
    "\n",
    "Optimizing these ratios will yield the highest chances of gaining (or not losing) money when using our model to approve or reject a loan."
   ]
  },
  {
   "cell_type": "markdown",
   "metadata": {},
   "source": [
    "## Logistic regression\n",
    "\n",
    "K-Fold cross validation.\n",
    "\n",
    "\n",
    "In order to work around our class imbalance, we will penalize some rows by setting the `class_weight` parameter to `balanced` in our LogisticRegression instance. Our penalty will be inversely proportional to the class frequencies."
   ]
  },
  {
   "cell_type": "markdown",
   "metadata": {},
   "source": [
    "![Diagram of k-fold cross validation](https://upload.wikimedia.org/wikipedia/commons/thumb/b/b5/K-fold_cross_validation_EN.svg/521px-K-fold_cross_validation_EN.svg.png)\n",
    "\n",
    "_Diagram of k-fold cross validation_"
   ]
  },
  {
   "cell_type": "code",
   "execution_count": 26,
   "metadata": {
    "tags": [
     "hide_input"
    ]
   },
   "outputs": [
    {
     "name": "stdout",
     "output_type": "stream",
     "text": [
      "Logistic regression model, k = 3, class_weight = balanced \n",
      "\n",
      "True positive rate: 67.02%\n",
      "False positive rate: 38.86%\n",
      "Number of false positives: 2094\n",
      "Accuracy score: 66.18%\n"
     ]
    }
   ],
   "source": [
    "from sklearn.linear_model import LogisticRegression\n",
    "from sklearn.model_selection import cross_val_predict\n",
    "from sklearn.metrics import accuracy_score\n",
    "\n",
    "features = loans_2007.drop(['loan_status'],axis=1) # drop target column\n",
    "target = loans_2007[\"loan_status\"]\n",
    "\n",
    "# Create a LogisticRegression instance \n",
    "# balanced class_weight will penalize loan_status = 1 -higher frequency\n",
    "lr = LogisticRegression(class_weight='balanced')\n",
    "\n",
    "k = 3\n",
    "\n",
    "predictions = cross_val_predict(lr, features, target, cv=k)\n",
    "predictions = pd.Series(predictions)\n",
    "\n",
    "# True negatives\n",
    "tn_bool_mask = loans_2007[(predictions == 0) & (loans_2007[\"loan_status\"] == 0)]\n",
    "tn = tn_bool_mask.shape[0]\n",
    "# True positives\n",
    "tp_bool_mask = loans_2007[(predictions == 1) & (loans_2007[\"loan_status\"] == 1)]\n",
    "tp = tp_bool_mask.shape[0]\n",
    "# False negatives\n",
    "fn_bool_mask = loans_2007[(predictions == 0) & (loans_2007[\"loan_status\"] == 1)]\n",
    "fn = fn_bool_mask.shape[0]\n",
    "# False positives\n",
    "fp_bool_mask = loans_2007[(predictions == 1) & (loans_2007[\"loan_status\"] == 0)]\n",
    "fp = fp_bool_mask.shape[0]\n",
    "\n",
    "# Computing the true positive rate\n",
    "tpr = tp/(tp+fn)\n",
    "\n",
    "# Computing the false positive rate\n",
    "fpr = fp/(fp + tn)\n",
    "\n",
    "# Accuracy score - used only for model comparison purposes\n",
    "accuracy = accuracy_score(loans_2007[\"loan_status\"], predictions)\n",
    "print(\"Logistic regression model, k = {}, class_weight = {}\".format(k,'balanced'), '\\n')\n",
    "print(\"True positive rate: {:.2f}%\".format(tpr*100))\n",
    "print(\"False positive rate: {:.2f}%\".format(fpr*100)) \n",
    "print(\"Number of false positives: {}\".format(fp))\n",
    "print(\"Accuracy score: {:.2f}%\".format(accuracy*100))"
   ]
  },
  {
   "cell_type": "markdown",
   "metadata": {},
   "source": [
    "## Random forest classifier model"
   ]
  },
  {
   "cell_type": "code",
   "execution_count": 27,
   "metadata": {
    "tags": [
     "hide_input"
    ]
   },
   "outputs": [
    {
     "name": "stdout",
     "output_type": "stream",
     "text": [
      "Random forest classifier model, k = 3, class_weight = balanced \n",
      "\n",
      "True positive rate: 97.01%\n",
      "False positive rate: 91.82%\n",
      "Number of false positives: 4948\n",
      "Accuracy score: 84.30%\n"
     ]
    }
   ],
   "source": [
    "from sklearn.ensemble import RandomForestClassifier\n",
    "\n",
    "rfc = RandomForestClassifier(random_state=1,class_weight='balanced')\n",
    "\n",
    "predictions = cross_val_predict(rfc, features, target, cv=3)\n",
    "predictions = pd.Series(predictions)\n",
    "\n",
    "# True negatives\n",
    "tn_bool_mask = loans_2007[(predictions == 0) & (loans_2007[\"loan_status\"] == 0)]\n",
    "tn = tn_bool_mask.shape[0]\n",
    "# True positives\n",
    "tp_bool_mask = loans_2007[(predictions == 1) & (loans_2007[\"loan_status\"] == 1)]\n",
    "tp = tp_bool_mask.shape[0]\n",
    "# False negatives\n",
    "fn_bool_mask = loans_2007[(predictions == 0) & (loans_2007[\"loan_status\"] == 1)]\n",
    "fn = fn_bool_mask.shape[0]\n",
    "# False positives\n",
    "fp_bool_mask = loans_2007[(predictions == 1) & (loans_2007[\"loan_status\"] == 0)]\n",
    "fp = fp_bool_mask.shape[0]\n",
    "\n",
    "# Computing the true positive rate\n",
    "tpr = tp/(tp+fn)\n",
    "\n",
    "# Computing the false positive rate\n",
    "fpr = fp/(fp + tn)\n",
    "\n",
    "# Accuracy score - used only for model comparison purposes\n",
    "accuracy = accuracy_score(loans_2007[\"loan_status\"], predictions)\n",
    "\n",
    "print(\"Random forest classifier model, k = {}, class_weight = {}\".format(k,'balanced'), '\\n')\n",
    "print(\"True positive rate: {:.2f}%\".format(tpr*100))\n",
    "print(\"False positive rate: {:.2f}%\".format(fpr*100)) \n",
    "print(\"Number of false positives: {}\".format(fp))\n",
    "print(\"Accuracy score: {:.2f}%\".format(accuracy*100))"
   ]
  },
  {
   "cell_type": "markdown",
   "metadata": {},
   "source": [
    "## Error comparison and model selection\n"
   ]
  }
 ],
 "metadata": {
  "kernelspec": {
   "display_name": "Python 3",
   "language": "python",
   "name": "python3"
  },
  "language_info": {
   "codemirror_mode": {
    "name": "ipython",
    "version": 3
   },
   "file_extension": ".py",
   "mimetype": "text/x-python",
   "name": "python",
   "nbconvert_exporter": "python",
   "pygments_lexer": "ipython3",
   "version": "3.7.3"
  }
 },
 "nbformat": 4,
 "nbformat_minor": 2
}
