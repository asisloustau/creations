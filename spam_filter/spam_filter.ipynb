{
 "cells": [
  {
   "cell_type": "markdown",
   "metadata": {},
   "source": [
    "# Creating an SMS Spam Filter Using Naive Bayes Algorithm\n",
    "[Data Set Description](https://archive.ics.uci.edu/ml/datasets/sms+spam+collection)"
   ]
  },
  {
   "cell_type": "code",
   "execution_count": 1,
   "metadata": {},
   "outputs": [],
   "source": [
    "# Disable warnings in Anaconda\n",
    "import warnings\n",
    "warnings.filterwarnings('ignore')\n",
    "\n",
    "import pandas as pd # Data processing\n",
    "import numpy as np # Linear algebra\n",
    "import matplotlib.pyplot as plt\n",
    "%matplotlib inline\n",
    "import seaborn as sns\n",
    "sns.set_style('white')\n",
    "\n",
    "import timeit # measure runtimes"
   ]
  },
  {
   "cell_type": "code",
   "execution_count": 2,
   "metadata": {},
   "outputs": [
    {
     "data": {
      "text/html": [
       "<div>\n",
       "<style scoped>\n",
       "    .dataframe tbody tr th:only-of-type {\n",
       "        vertical-align: middle;\n",
       "    }\n",
       "\n",
       "    .dataframe tbody tr th {\n",
       "        vertical-align: top;\n",
       "    }\n",
       "\n",
       "    .dataframe thead th {\n",
       "        text-align: right;\n",
       "    }\n",
       "</style>\n",
       "<table border=\"1\" class=\"dataframe\">\n",
       "  <thead>\n",
       "    <tr style=\"text-align: right;\">\n",
       "      <th></th>\n",
       "      <th>Label</th>\n",
       "      <th>SMS</th>\n",
       "    </tr>\n",
       "  </thead>\n",
       "  <tbody>\n",
       "    <tr>\n",
       "      <th>0</th>\n",
       "      <td>ham</td>\n",
       "      <td>Go until jurong point, crazy.. Available only ...</td>\n",
       "    </tr>\n",
       "    <tr>\n",
       "      <th>1</th>\n",
       "      <td>ham</td>\n",
       "      <td>Ok lar... Joking wif u oni...</td>\n",
       "    </tr>\n",
       "    <tr>\n",
       "      <th>2</th>\n",
       "      <td>spam</td>\n",
       "      <td>Free entry in 2 a wkly comp to win FA Cup fina...</td>\n",
       "    </tr>\n",
       "    <tr>\n",
       "      <th>3</th>\n",
       "      <td>ham</td>\n",
       "      <td>U dun say so early hor... U c already then say...</td>\n",
       "    </tr>\n",
       "    <tr>\n",
       "      <th>4</th>\n",
       "      <td>ham</td>\n",
       "      <td>Nah I don't think he goes to usf, he lives aro...</td>\n",
       "    </tr>\n",
       "  </tbody>\n",
       "</table>\n",
       "</div>"
      ],
      "text/plain": [
       "  Label                                                SMS\n",
       "0   ham  Go until jurong point, crazy.. Available only ...\n",
       "1   ham                      Ok lar... Joking wif u oni...\n",
       "2  spam  Free entry in 2 a wkly comp to win FA Cup fina...\n",
       "3   ham  U dun say so early hor... U c already then say...\n",
       "4   ham  Nah I don't think he goes to usf, he lives aro..."
      ]
     },
     "execution_count": 2,
     "metadata": {},
     "output_type": "execute_result"
    }
   ],
   "source": [
    "data = pd.read_csv(\"SMSSpamCollection\", sep='\\t',names=[\"Label\",\"SMS\"]);\n",
    "data.head()"
   ]
  },
  {
   "cell_type": "code",
   "execution_count": 6,
   "metadata": {},
   "outputs": [
    {
     "name": "stdout",
     "output_type": "stream",
     "text": [
      "Number of rows: 5572\n",
      "\n",
      "Percentage of spam vs ham (non-spam) messages\n",
      "---------------------------------------------\n",
      "ham     86.593683\n",
      "spam    13.406317\n"
     ]
    }
   ],
   "source": [
    "print(\"Number of rows: {}\\n\".format(data.shape[0]))\n",
    "print(\"Percentage of spam vs ham (non-spam) messages\")\n",
    "print(\"-\"*45)\n",
    "print((data[\"Label\"].value_counts(normalize=True)*100).to_string())"
   ]
  },
  {
   "cell_type": "markdown",
   "metadata": {},
   "source": [
    "To-Do:\n",
    "- Data cleaning: Remove punctuation and conver to lowercase\n",
    "- Create a vocabulary set\n",
    "- Create a dictionary with word counts per sms\n",
    "- Define random train-test sets\n",
    "- Naive Bayes"
   ]
  },
  {
   "cell_type": "markdown",
   "metadata": {},
   "source": [
    "## Data Cleaning\n",
    "- Remove punctuation using regex\n",
    "- Convert strings to lowercase"
   ]
  },
  {
   "cell_type": "code",
   "execution_count": 14,
   "metadata": {},
   "outputs": [],
   "source": [
    "data[\"SMS\"]=data[\"SMS\"].str.replace(\"\\W\",\" \")\n",
    "data[\"SMS\"]=data[\"SMS\"].str.lower()"
   ]
  },
  {
   "cell_type": "markdown",
   "metadata": {},
   "source": [
    "## Feature Transformation\n",
    "- Split messages at space characters\n",
    "- Create a vocabulary list iterating on each message"
   ]
  },
  {
   "cell_type": "code",
   "execution_count": 15,
   "metadata": {},
   "outputs": [
    {
     "data": {
      "text/plain": [
       "0       [go, until, jurong, point, , crazy, , , availa...\n",
       "1              [ok, lar, , , , joking, wif, u, oni, , , ]\n",
       "2       [free, entry, in, 2, a, wkly, comp, to, win, f...\n",
       "3       [u, dun, say, so, early, hor, , , , u, c, alre...\n",
       "4       [nah, i, don, t, think, he, goes, to, usf, , h...\n",
       "5       [freemsg, hey, there, darling, it, s, been, 3,...\n",
       "6       [even, my, brother, is, not, like, to, speak, ...\n",
       "7       [as, per, your, request, , melle, melle, , oru...\n",
       "8       [winner, , , as, a, valued, network, customer,...\n",
       "9       [had, your, mobile, 11, months, or, more, , u,...\n",
       "10      [i, m, gonna, be, home, soon, and, i, don, t, ...\n",
       "11      [six, chances, to, win, cash, , from, 100, to,...\n",
       "12      [urgent, , you, have, won, a, 1, week, free, m...\n",
       "13      [i, ve, been, searching, for, the, right, word...\n",
       "14         [i, have, a, date, on, sunday, with, will, , ]\n",
       "15      [xxxmobilemovieclub, , to, use, your, credit, ...\n",
       "16                  [oh, k, , , i, m, watching, here, , ]\n",
       "17      [eh, u, remember, how, 2, spell, his, name, , ...\n",
       "18      [fine, if, that, s, the, way, u, feel, , that,...\n",
       "19      [england, v, macedonia, , , dont, miss, the, g...\n",
       "20      [is, that, seriously, how, you, spell, his, na...\n",
       "21      [i, m, going, to, try, for, 2, months, ha, ha,...\n",
       "22      [so, ü, pay, first, lar, , , , then, when, is,...\n",
       "23      [aft, i, finish, my, lunch, then, i, go, str, ...\n",
       "24      [ffffffffff, , alright, no, way, i, can, meet,...\n",
       "25      [just, forced, myself, to, eat, a, slice, , i,...\n",
       "26                  [lol, your, always, so, convincing, ]\n",
       "27      [did, you, catch, the, bus, , , are, you, fryi...\n",
       "28      [i, m, back, , amp, , we, re, packing, the, ca...\n",
       "29      [ahhh, , work, , i, vaguely, remember, that, ,...\n",
       "                              ...                        \n",
       "5542    [armand, says, get, your, ass, over, to, epsilon]\n",
       "5543     [u, still, havent, got, urself, a, jacket, ah, ]\n",
       "5544    [i, m, taking, derek, , amp, , taylor, to, wal...\n",
       "5545    [hi, its, in, durban, are, you, still, on, thi...\n",
       "5546    [ic, , there, are, a, lotta, childporn, cars, ...\n",
       "5547    [had, your, contract, mobile, 11, mnths, , lat...\n",
       "5548        [no, , i, was, trying, it, all, weekend, , v]\n",
       "5549    [you, know, , wot, people, wear, , t, shirts, ...\n",
       "5550    [cool, , what, time, you, think, you, can, get...\n",
       "5551    [wen, did, you, get, so, spiritual, and, deep,...\n",
       "5552    [have, a, safe, trip, to, nigeria, , wish, you...\n",
       "5553                   [hahaha, , use, your, brain, dear]\n",
       "5554    [well, keep, in, mind, i, ve, only, got, enoug...\n",
       "5555    [yeh, , indians, was, nice, , tho, it, did, ka...\n",
       "5556    [yes, i, have, , so, that, s, why, u, texted, ...\n",
       "5557    [no, , i, meant, the, calculation, is, the, sa...\n",
       "5558                        [sorry, , i, ll, call, later]\n",
       "5559    [if, you, aren, t, here, in, the, next, , , lt...\n",
       "5560          [anything, lor, , juz, both, of, us, lor, ]\n",
       "5561    [get, me, out, of, this, dump, heap, , my, mom...\n",
       "5562    [ok, lor, , , , sony, ericsson, salesman, , , ...\n",
       "5563                           [ard, 6, like, dat, lor, ]\n",
       "5564    [why, don, t, you, wait, , til, at, least, wed...\n",
       "5565                                  [huh, y, lei, , , ]\n",
       "5566    [reminder, from, o2, , to, get, 2, 50, pounds,...\n",
       "5567    [this, is, the, 2nd, time, we, have, tried, 2,...\n",
       "5568       [will, ü, b, going, to, esplanade, fr, home, ]\n",
       "5569    [pity, , , , was, in, mood, for, that, , so, ,...\n",
       "5570    [the, guy, did, some, bitching, but, i, acted,...\n",
       "5571                   [rofl, , its, true, to, its, name]\n",
       "Name: SMS, Length: 5572, dtype: object"
      ]
     },
     "execution_count": 15,
     "metadata": {},
     "output_type": "execute_result"
    }
   ],
   "source": [
    "data[\"SMS\"].str.split(\" \")"
   ]
  }
 ],
 "metadata": {
  "kernelspec": {
   "display_name": "Python 3",
   "language": "python",
   "name": "python3"
  },
  "language_info": {
   "codemirror_mode": {
    "name": "ipython",
    "version": 3
   },
   "file_extension": ".py",
   "mimetype": "text/x-python",
   "name": "python",
   "nbconvert_exporter": "python",
   "pygments_lexer": "ipython3",
   "version": "3.7.3"
  }
 },
 "nbformat": 4,
 "nbformat_minor": 2
}
