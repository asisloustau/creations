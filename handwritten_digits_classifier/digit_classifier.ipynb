{
 "cells": [
  {
   "cell_type": "markdown",
   "metadata": {},
   "source": [
    "# Building a Handwritten Digits Classifier\n",
    "\n",
    "# Handwritten Digits Classifier\n",
    "\n",
    "## Challenges of image classification:\n",
    "- Each pixel is a feature, which means we could have millions of features for one single image (A pixels x B pixels = n features)\n",
    "- In order to reduce computation times, images are reduced and transformed to grayscale, so there is a loss of detail that hurts our model.\n",
    "- Non-linear behavior: The features of handwritten digits do not present a linear relationship -pixels will be completely different depending on the number written and the writing itself.\n",
    "\n",
    "## Deep learning as a solution\n",
    "Deep learning can learn intermediate representations at each hidden layer we define, identifying patterns in chunks.\n",
    "To create our handwritten digits classifier, we will use a basic deep learning model.\n",
    "\n",
    "Using `sklearn.datasets` and `load_digits()` function to return a copy of the [hand-written digits dataset](http://archive.ics.uci.edu/ml/datasets/Optical+Recognition+of+Handwritten+Digits) from UCI."
   ]
  },
  {
   "cell_type": "code",
   "execution_count": 1,
   "metadata": {},
   "outputs": [],
   "source": [
    "# Disable warnings in Anaconda\n",
    "import warnings\n",
    "warnings.filterwarnings('ignore')\n",
    "\n",
    "import pandas as pd # Data processing\n",
    "import numpy as np # Linear algebra\n",
    "import matplotlib.pyplot as plt\n",
    "%matplotlib inline\n",
    "import seaborn as sns\n",
    "sns.set_style('white')\n",
    "# %config InlineBackend.figure_format = 'retina' \n",
    "# plt.rcParams['figure.figsize'] = 8, 5\n",
    "# plt.rcParams['image.cmap'] = 'viridis'\n",
    "\n",
    "from sklearn.datasets import load_digits\n",
    "from sklearn.neighbors import KNeighborsClassifier\n",
    "from sklearn.model_selection import KFold\n",
    "from sklearn.model_selection import cross_val_score\n",
    "from sklearn.neural_network import MLPClassifier\n",
    "\n",
    "\n",
    "### Helper Functions ###\n",
    "\n",
    "def explore_number(index,data=load_digits()):\n",
    "    \"\"\"Prints following data from digits:\n",
    "        Numpy 2D array\n",
    "        Image representation of handwritten number\n",
    "        Target value (actual number)\n",
    "    \n",
    "    Args:\n",
    "        index of number to be explored\n",
    "        data (dictionary of data): load_digits() or similar dict structura\n",
    "    \n",
    "    Returns:\n",
    "        Nothing\n",
    "    \"\"\"\n",
    "    print(\"Handwritten Digit Features - 2D Array\")\n",
    "    print(\"Target Number {}\".format(data['target'][index]))\n",
    "    print(\"-------------------------------------\")\n",
    "    for row in data['images'][index]:\n",
    "        print(row)\n",
    "    print('\\n')\n",
    "    plt.imshow(data['images'][index], cmap='gray_r')\n",
    "    plt.xlabel('Target Number {}'.format(data['target'][index]), fontsize=18)\n",
    "    plt.show()"
   ]
  },
  {
   "cell_type": "code",
   "execution_count": 2,
   "metadata": {},
   "outputs": [
    {
     "data": {
      "text/plain": [
       "dict_keys(['data', 'target', 'target_names', 'images', 'DESCR'])"
      ]
     },
     "execution_count": 2,
     "metadata": {},
     "output_type": "execute_result"
    }
   ],
   "source": [
    "# Importing the dataset\n",
    "dataset = load_digits()\n",
    "dataset.keys() # Keys of dataset"
   ]
  },
  {
   "cell_type": "code",
   "execution_count": 3,
   "metadata": {},
   "outputs": [
    {
     "name": "stdout",
     "output_type": "stream",
     "text": [
      "Handwritten Digit Features - 2D Array\n",
      "Target Number 6\n",
      "-------------------------------------\n",
      "[ 0.  0.  0.  8. 15.  1.  0.  0.]\n",
      "[ 0.  0.  0. 12. 14.  0.  0.  0.]\n",
      "[ 0.  0.  3. 16.  7.  0.  0.  0.]\n",
      "[ 0.  0.  6. 16.  2.  0.  0.  0.]\n",
      "[ 0.  0.  7. 16. 16. 13.  5.  0.]\n",
      "[ 0.  0. 15. 16.  9.  9. 14.  0.]\n",
      "[ 0.  0.  3. 14.  9.  2. 16.  2.]\n",
      "[ 0.  0.  0.  7. 15. 16. 11.  0.]\n",
      "\n",
      "\n"
     ]
    },
    {
     "data": {
      "image/png": "[encoded data removed]",
      "text/plain": [
       "<Figure size 432x288 with 1 Axes>"
      ]
     },
     "metadata": {
      "needs_background": "light"
     },
     "output_type": "display_data"
    }
   ],
   "source": [
    "explore_number(16) # Exploring first number's features and target"
   ]
  },
  {
   "cell_type": "code",
   "execution_count": 4,
   "metadata": {},
   "outputs": [
    {
     "data": {
      "image/png": "[encoded data removed]",
      "text/plain": [
       "<Figure size 1152x720 with 8 Axes>"
      ]
     },
     "metadata": {
      "needs_background": "light"
     },
     "output_type": "display_data"
    }
   ],
   "source": [
    "# Visualizing some random data\n",
    "fig = plt.figure(figsize=(16,10))\n",
    "for i in range(8):\n",
    "    ax = fig.add_subplot(2,4,i+1)\n",
    "    ax.imshow(dataset['images'][i*100], cmap='gray_r') # Showing 2D Numpy arrays as images\n",
    "    ax.set_xlabel('Target Number {}'.format(dataset['target'][i*100]), fontsize=18) # Add actual number (target) as label"
   ]
  },
  {
   "cell_type": "markdown",
   "metadata": {},
   "source": [
    "## KNN classifier\n",
    "In order to make image classification with a KNN algorithm, we will use the features in `dataset['data']` and the target values in `dataset['target']`."
   ]
  },
  {
   "cell_type": "code",
   "execution_count": 5,
   "metadata": {},
   "outputs": [
    {
     "data": {
      "text/plain": [
       "array([0.96666667, 0.92857143, 0.90421456])"
      ]
     },
     "execution_count": 5,
     "metadata": {},
     "output_type": "execute_result"
    }
   ],
   "source": [
    "# add to this: either use pandas or use KFold for train and test randomization\n",
    "train_features = dataset['data'][:1000]\n",
    "test_features = dataset['data'][1000:]\n",
    "train_target = dataset['target'][:1000]\n",
    "test_target = dataset['target'][1000:]\n",
    "\n",
    "\n",
    "def train(train_features,train_target,k=5):\n",
    "    knc = KNeighborsClassifier(n_neighbors=k)\n",
    "    knc.fit(train_features,train_target)\n",
    "    return knc\n",
    "\n",
    "def test(train_features,test_features,train_target,test_target,k=5):\n",
    "    knc = train(train_features,train_target,k)\n",
    "    predictions = knc.predict(test_features)\n",
    "    accuracy = cross_val_score(knc,test_features,test_target)\n",
    "    return accuracy\n",
    "\n",
    "test(train_features,test_features,train_target,test_target,k=3)\n"
   ]
  },
  {
   "cell_type": "code",
   "execution_count": 6,
   "metadata": {},
   "outputs": [
    {
     "data": {
      "image/png": "[encoded data removed]",
      "text/plain": [
       "<Figure size 432x288 with 1 Axes>"
      ]
     },
     "metadata": {
      "needs_background": "light"
     },
     "output_type": "display_data"
    }
   ],
   "source": [
    "accuracies = list()\n",
    "accuracies_means = list()\n",
    "\n",
    "for i in range(2,10):\n",
    "    accuracy = test(train_features,test_features,train_target,test_target,k=i)\n",
    "    accuracies.append(accuracy)\n",
    "    accuracies_means.append(np.mean(accuracy))\n",
    "\n",
    "plt.xlabel('K Parameter')\n",
    "plt.ylabel('Accuracy')\n",
    "plt.plot([i for i in range(2,10)],accuracies_means);"
   ]
  },
  {
   "cell_type": "code",
   "execution_count": 7,
   "metadata": {},
   "outputs": [],
   "source": [
    "### TO-DO: cross_validate() function and MLP classifier"
   ]
  },
  {
   "cell_type": "code",
   "execution_count": null,
   "metadata": {},
   "outputs": [],
   "source": []
  }
 ],
 "metadata": {
  "kernelspec": {
   "display_name": "Python 3",
   "language": "python",
   "name": "python3"
  },
  "language_info": {
   "codemirror_mode": {
    "name": "ipython",
    "version": 3
   },
   "file_extension": ".py",
   "mimetype": "text/x-python",
   "name": "python",
   "nbconvert_exporter": "python",
   "pygments_lexer": "ipython3",
   "version": "3.7.3"
  }
 },
 "nbformat": 4,
 "nbformat_minor": 2
}
