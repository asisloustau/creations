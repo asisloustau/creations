{
 "cells": [
  {
   "cell_type": "markdown",
   "metadata": {},
   "source": [
    "# Building a Handwritten Digits Classifier\n",
    "\n",
    "# Handwritten Digits Classifier\n",
    "\n",
    "## Challenges of image classification:\n",
    "- Each pixel is a feature, which means we could have millions of features for one single image (A pixels x B pixels = n features)\n",
    "- In order to reduce computation times, images are reduced and transformed to grayscale, so there is a loss of detail that hurts our model.\n",
    "- Non-linear behavior: The features of handwritten digits do not present a linear relationship -pixels will be completely different depending on the number written and the writing itself.\n",
    "\n",
    "## Deep learning as a solution\n",
    "Deep learning can learn intermediate representations at each hidden layer we define, identifying patterns in chunks.\n",
    "To create our handwritten digits classifier, we will use a basic deep learning model.\n",
    "\n",
    "Using `sklearn.datasets` and `load_digits()` function to return a copy of the [hand-written digits dataset](http://archive.ics.uci.edu/ml/datasets/Optical+Recognition+of+Handwritten+Digits) from UCI."
   ]
  },
  {
   "cell_type": "code",
   "execution_count": 34,
   "metadata": {},
   "outputs": [],
   "source": [
    "# Disable warnings in Anaconda\n",
    "import warnings\n",
    "warnings.filterwarnings('ignore')\n",
    "\n",
    "import pandas as pd # Data processing\n",
    "import numpy as np # Linear algebra\n",
    "import matplotlib.pyplot as plt\n",
    "%matplotlib inline\n",
    "import seaborn as sns\n",
    "sns.set_style('white')\n",
    "# %config InlineBackend.figure_format = 'retina' \n",
    "# plt.rcParams['figure.figsize'] = 8, 5\n",
    "# plt.rcParams['image.cmap'] = 'viridis'\n",
    "\n",
    "from sklearn.datasets import load_digits\n",
    "from sklearn.neighbors import KNeighborsClassifier\n",
    "from sklearn.model_selection import KFold\n",
    "from sklearn.model_selection import cross_val_score\n",
    "from sklearn.neural_network import MLPClassifier\n",
    "\n",
    "def explore_number(index,data=load_digits()):\n",
    "    \"\"\"Prints following data from digits:\n",
    "    Numpy 2D array\n",
    "    Image representation of handwritten number\n",
    "    Target value (actual number)\n",
    "    \n",
    "    Args:\n",
    "        index of number to be explored\n",
    "        data (dictionary of data): load_digits() or similar dict structura\n",
    "    \n",
    "    Returns:\n",
    "        Nothing\n",
    "    \"\"\"\n",
    "    print(\"Handwritten Digit Features - 2D Array\")\n",
    "    print(\"-------------------------------------\")\n",
    "    for row in data['images'][index]:\n",
    "        print(row)\n",
    "    print('\\n')\n",
    "    plt.imshow(dataset['images'][index], cmap='gray_r')\n",
    "    plt.set_xlabel('Target Number {}'.format(dataset['target'][index]), fontsize=18)\n",
    "    plt.show()\n",
    "    "
   ]
  },
  {
   "cell_type": "code",
   "execution_count": 33,
   "metadata": {},
   "outputs": [
    {
     "name": "stdout",
     "output_type": "stream",
     "text": [
      "Handwritten Digit Features - 2D Array\n",
      "-------------------------------------\n",
      "[ 0.  0. 12. 16. 16.  8.  0.  0.]\n",
      "[ 0.  3. 16. 13.  8.  5.  0.  0.]\n",
      "[ 0.  2. 16.  3.  0.  0.  0.  0.]\n",
      "[ 0.  0. 16. 13.  9.  0.  0.  0.]\n",
      "[ 0.  0. 10. 16. 16.  7.  0.  0.]\n",
      "[ 0.  0.  0.  1. 10. 13.  0.  0.]\n",
      "[ 0.  0.  2. 11. 16. 10.  0.  0.]\n",
      "[ 0.  0. 11. 16. 12.  0.  0.  0.]\n",
      "\n",
      "\n",
      "AxesSubplot(0.731522,0.161808;0.168478x0.269565)\n"
     ]
    }
   ],
   "source": [
    "explore_number(102)"
   ]
  },
  {
   "cell_type": "code",
   "execution_count": 2,
   "metadata": {},
   "outputs": [],
   "source": [
    "# Importing the dataset\n",
    "dataset = load_digits()\n",
    "# dataset = dataset.pop('target_names')\n",
    "# dataset = dataset.pop('DESCR')\n",
    "# pd.DataFrame(dataset['data'])"
   ]
  },
  {
   "cell_type": "code",
   "execution_count": 14,
   "metadata": {},
   "outputs": [
    {
     "data": {
      "text/plain": [
       "dict_keys(['data', 'target', 'target_names', 'images', 'DESCR'])"
      ]
     },
     "execution_count": 14,
     "metadata": {},
     "output_type": "execute_result"
    }
   ],
   "source": [
    "dataset.keys() "
   ]
  },
  {
   "cell_type": "code",
   "execution_count": 10,
   "metadata": {},
   "outputs": [
    {
     "name": "stdout",
     "output_type": "stream",
     "text": [
      "[ 0.  0.  5. 13.  9.  1.  0.  0.  0.  0. 13. 15. 10. 15.  5.  0.  0.  3.\n",
      " 15.  2.  0. 11.  8.  0.  0.  4. 12.  0.  0.  8.  8.  0.  0.  5.  8.  0.\n",
      "  0.  9.  8.  0.  0.  4. 11.  0.  1. 12.  7.  0.  0.  2. 14.  5. 10. 12.\n",
      "  0.  0.  0.  0.  6. 13. 10.  0.  0.  0.]\n"
     ]
    }
   ],
   "source": [
    "print()\n",
    "print(dataset['data'][0])"
   ]
  },
  {
   "cell_type": "code",
   "execution_count": 36,
   "metadata": {},
   "outputs": [
    {
     "data": {
      "image/png": "[encoded data removed]",
      "text/plain": [
       "<Figure size 1152x720 with 8 Axes>"
      ]
     },
     "metadata": {},
     "output_type": "display_data"
    }
   ],
   "source": [
    "fig = plt.figure(figsize=(16,10))\n",
    "for i in range(8):\n",
    "    ax = fig.add_subplot(2,4,i+1)\n",
    "    ax.imshow(dataset['images'][i*100], cmap='gray_r') # Showing 2D Numpy arrays as images\n",
    "    ax.set_xlabel('Target Number {}'.format(dataset['target'][i*100]), fontsize=18) # Add actual number (target) as label"
   ]
  },
  {
   "cell_type": "markdown",
   "metadata": {},
   "source": [
    "## KNN classifier\n",
    "In order to make image classification with a KNN algorithm, we will use the features in `dataset['data']` and the target values in `dataset['target']`."
   ]
  },
  {
   "cell_type": "code",
   "execution_count": 6,
   "metadata": {},
   "outputs": [
    {
     "data": {
      "text/plain": [
       "array([0.96666667, 0.92857143, 0.90421456])"
      ]
     },
     "execution_count": 6,
     "metadata": {},
     "output_type": "execute_result"
    }
   ],
   "source": [
    "# add to this: either use pandas or use KFold for train and test randomization\n",
    "train_features = dataset['data'][:1000]\n",
    "test_features = dataset['data'][1000:]\n",
    "train_target = dataset['target'][:1000]\n",
    "test_target = dataset['target'][1000:]\n",
    "\n",
    "\n",
    "def train(train_features,train_target,k=5):\n",
    "    knc = KNeighborsClassifier(n_neighbors=k)\n",
    "    knc.fit(train_features,train_target)\n",
    "    return knc\n",
    "\n",
    "def test(train_features,test_features,train_target,test_target,k=5):\n",
    "    knc = train(train_features,train_target,k)\n",
    "    predictions = knc.predict(test_features)\n",
    "    accuracy = cross_val_score(knc,test_features,test_target)\n",
    "    return accuracy\n",
    "\n",
    "test(train_features,test_features,train_target,test_target,k=3)\n"
   ]
  },
  {
   "cell_type": "code",
   "execution_count": 7,
   "metadata": {},
   "outputs": [
    {
     "data": {
      "text/plain": [
       "[<matplotlib.lines.Line2D at 0x7fbacd282278>]"
      ]
     },
     "execution_count": 7,
     "metadata": {},
     "output_type": "execute_result"
    },
    {
     "data": {
      "image/png": "[encoded data removed]",
      "text/plain": [
       "<Figure size 432x288 with 1 Axes>"
      ]
     },
     "metadata": {
      "needs_background": "light"
     },
     "output_type": "display_data"
    }
   ],
   "source": [
    "accuracies = list()\n",
    "accuracies_means = list()\n",
    "\n",
    "for i in range(2,10):\n",
    "    accuracy = test(train_features,test_features,train_target,test_target,k=i)\n",
    "    accuracies.append(accuracy)\n",
    "    accuracies_means.append(np.mean(accuracy))\n",
    "\n",
    "plt.xlabel('K Parameter')\n",
    "plt.ylabel('Accuracy')\n",
    "plt.plot([i for i in range(2,10)],accuracies_means)"
   ]
  },
  {
   "cell_type": "code",
   "execution_count": 8,
   "metadata": {},
   "outputs": [],
   "source": [
    "### TO-DO: cross_validate() function and MLP classifier"
   ]
  },
  {
   "cell_type": "code",
   "execution_count": null,
   "metadata": {},
   "outputs": [],
   "source": []
  }
 ],
 "metadata": {
  "kernelspec": {
   "display_name": "Python 3",
   "language": "python",
   "name": "python3"
  },
  "language_info": {
   "codemirror_mode": {
    "name": "ipython",
    "version": 3
   },
   "file_extension": ".py",
   "mimetype": "text/x-python",
   "name": "python",
   "nbconvert_exporter": "python",
   "pygments_lexer": "ipython3",
   "version": "3.7.3"
  }
 },
 "nbformat": 4,
 "nbformat_minor": 2
}
